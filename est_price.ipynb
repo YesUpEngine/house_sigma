{
 "cells": [
  {
   "cell_type": "code",
   "execution_count": 2,
   "metadata": {
    "collapsed": true
   },
   "outputs": [],
   "source": [
    "import pandas as pd\n",
    "import os\n",
    "import numpy as np\n",
    "\n",
    "HOUSING_PATH = \"datasets\"\n",
    "def load_housing_data(file, housing_path=HOUSING_PATH):\n",
    "    csv_path = os.path.join(housing_path, file)\n",
    "    return pd.read_csv(csv_path, sep=\"\\t\\t\", header=0, error_bad_lines=False, dtype={'taxes':np.float32}, engine='python' )"
   ]
  },
  {
   "cell_type": "code",
   "execution_count": 3,
   "metadata": {},
   "outputs": [
    {
     "name": "stdout",
     "output_type": "stream",
     "text": [
      "1.6,0.8\n"
     ]
    }
   ],
   "source": [
    "def get_weight(days):\n",
    "    w = np.reciprocal(days/80.0)\n",
    "    return w*2\n",
    "\n",
    "print(str(get_weight(100)) + \",\" + str(get_weight(200)))"
   ]
  },
  {
   "cell_type": "code",
   "execution_count": 4,
   "metadata": {},
   "outputs": [
    {
     "name": "stdout",
     "output_type": "stream",
     "text": [
      "237\n"
     ]
    }
   ],
   "source": [
    "import datetime\n",
    "import math\n",
    "\n",
    "def d(s):\n",
    "    [year, month, day] = map(int, s.split('-'))\n",
    "    return datetime.date(year, month, day)\n",
    "def get_days_gap(start, today = str(datetime.date.today())):\n",
    "    return (d(today) - d(start)).days\n",
    "\n",
    "print(get_days_gap('2017-03-08'))\n",
    "    "
   ]
  },
  {
   "cell_type": "code",
   "execution_count": 5,
   "metadata": {
    "collapsed": true
   },
   "outputs": [],
   "source": [
    "#ml_num,br_final,bath_num,addr,basement_status,\n",
    "#soldPrice,land_size,topHighschoolScore,topBelowHighschoolScore,dom,\n",
    "#renovator_tag,sqft_level,sqft_level_low,sqft_level_high,yr_built_lvl,\n",
    "#estimateRent,estimateRentDaysOnMarket,estimateSquarefootage,est_rent_yearreturn_percentile,price_sold_growth_yoy,\n",
    "#price_sold_median,dom_avg,price_sold_growth_yoy_percentile,latitude,longitude,  20-24\n",
    "#front_adjustedInFt,depth_adjustedInFt,photo_num,est_yr_built,log_debug,\n",
    "#flg_live,s_r,community_plus_code,community,municipality_code, 30-34\n",
    "#municipality,acres,bsmt1_out,bsmt2_out,date_start,\n",
    "#date_end,area,ad_text,extras,prop_feat1_out,    40-44\n",
    "#prop_feat2_out,prop_feat3_out,prop_feat4_out,prop_feat5_out,prop_feat6_out,\n",
    "#type_own_srch,constr1_out,drive,gar_spaces,park_spcs,\n",
    "#style,gar_type,yr_built,taxes,type_own1_out,lp_dol\n",
    "\n",
    "import re\n",
    "\n",
    "\n",
    "fts = [1,2,3,4,5,6,7,8,9,11,12,13,14,15,16,17,19,20,21,22,23,24,25,26,27,28,31,32,33,34,35,39,40,42,43,44,45,46,47,48,49,\\\n",
    "       50,53,54,55,56,57,58,59,60]\n",
    "fts = [1,2,4,6,7,8,9,11,12,13,14,15,17,18,19,20,21,22,23,24,25,26,27,31,32,34,35,39,40,42,43,44,45,46,47,48,\\\n",
    "      49,50,53,54,55,56,57,58,59,60]\n",
    "\n",
    "text_fts = {'ad_text':42, 'extras':43, 'prop_feat1_out':44, 'prop_feat2_out':45, 'prop_feat3_out':46, \\\n",
    "           'prop_feat4_out':47, 'prop_feat5_out':48, 'prop_feat6_out':49 }\n",
    "catg_fts = {'community_plus_code':32, 'municipality_code':34, 'municipality':35, 'style':55, 'gar_type':56,'type_own1_out':59}\n",
    "nume_fts = {'br_final':1, 'bath_num':2, 'basement_status':4, 'land_size':6,'topHighschoolScore':7,'topBelowHighschoolScore':8,\\\n",
    "'dom':9, 'sqft_level':11,'sqft_level_low':12, 'sqft_level_high':13,'yr_built_lvl':14, 'estimateRent':15, \\\n",
    "'estimateSquarefootage':17, 'est_rent_yearreturn_percentile':18, 'price_sold_growth_yoy':19, 'price_sold_median':20, \\\n",
    "'dom_avg':21, 'price_sold_growth_yoy_percentile':22, 'latitude':23, 'longitude':24, 'front_adjustedInFt':25, \\\n",
    "'depth_adjustedInFt':26, 'photo_num':27,'gar_spaces':53,'park_spcs':54, 'taxes':58, 'lp_dol':60}\n",
    "\n",
    "cdate = {'date_start':39, 'date_end':40,}\n",
    "\n",
    "#'s_r':31,\n",
    "\n",
    "out1 = open(\"datasets/n_features.csv\", 'w')\n",
    "out2 = open(\"datasets/c_features.csv\", 'w')\n",
    "    \n",
    "with open('datasets/housing.csv', 'r') as f:\n",
    "\n",
    "    is_header = True\n",
    "\n",
    "    for line in f:\n",
    "\n",
    "        nflist = []\n",
    "        cflist = []\n",
    "        \n",
    "        cols = line.strip(\"\\r\").strip(\"\\n\").split(\"\\t\")\n",
    "\n",
    "        if len(cols) == 61:\n",
    "        \n",
    "            if cols[31] == 'Sale':  # s_r\n",
    "                continue;\n",
    "            \n",
    "            if not is_header:\n",
    "                p_ds = cdate['date_start']\n",
    "                p_de = cdate['date_end']\n",
    "                nflist.append(get_days_gap(cols[p_ds].split(\" \")[0], cols[p_de].split(\" \")[0]))\n",
    "                nflist.append(get_days_gap(cols[p_de].split(\" \")[0]))\n",
    "                [nflist.append(math.log(len(cols[i]) + math.e)) for i in text_fts.values()]\n",
    "\n",
    "            else:\n",
    "                nflist.append(\"list_days\")\n",
    "                nflist.append(\"days_to_now\")\n",
    "                is_header = False\n",
    "                [nflist.append(cols[i]) for i in text_fts.values()]\n",
    "\n",
    "            [nflist.append(cols[i]) for i in nume_fts.values()]\n",
    "            [cflist.append(re.sub(r'\\W+', '', cols[i], 100)) for i in catg_fts.values()]\n",
    "\n",
    "            snlist = \"\\t\\t\".join(map(str, nflist))\n",
    "            sclist = \"\\t\\t\".join(map(str, cflist))\n",
    "            out1.write(snlist+\"\\n\")\n",
    "            out2.write(sclist+\"\\n\")\n",
    "out1.close()\n",
    "out2.close()"
   ]
  },
  {
   "cell_type": "code",
   "execution_count": 233,
   "metadata": {},
   "outputs": [],
   "source": [
    "nfs= load_housing_data(file=\"n_features.csv\")\n",
    "cfs= load_housing_data(file=\"c_features.csv\")"
   ]
  },
  {
   "cell_type": "code",
   "execution_count": 234,
   "metadata": {},
   "outputs": [
    {
     "data": {
      "text/html": [
       "<div>\n",
       "<style>\n",
       "    .dataframe thead tr:only-child th {\n",
       "        text-align: right;\n",
       "    }\n",
       "\n",
       "    .dataframe thead th {\n",
       "        text-align: left;\n",
       "    }\n",
       "\n",
       "    .dataframe tbody tr th {\n",
       "        vertical-align: top;\n",
       "    }\n",
       "</style>\n",
       "<table border=\"1\" class=\"dataframe\">\n",
       "  <thead>\n",
       "    <tr style=\"text-align: right;\">\n",
       "      <th></th>\n",
       "      <th>list_days</th>\n",
       "      <th>days_to_now</th>\n",
       "      <th>ad_text</th>\n",
       "      <th>prop_feat6_out</th>\n",
       "      <th>prop_feat3_out</th>\n",
       "      <th>prop_feat2_out</th>\n",
       "      <th>prop_feat1_out</th>\n",
       "      <th>prop_feat5_out</th>\n",
       "      <th>extras</th>\n",
       "      <th>prop_feat4_out</th>\n",
       "      <th>...</th>\n",
       "      <th>front_adjustedInFt</th>\n",
       "      <th>depth_adjustedInFt</th>\n",
       "      <th>land_size</th>\n",
       "      <th>dom_avg</th>\n",
       "      <th>yr_built_lvl</th>\n",
       "      <th>taxes</th>\n",
       "      <th>bath_num</th>\n",
       "      <th>estimateRent</th>\n",
       "      <th>br_final</th>\n",
       "      <th>topBelowHighschoolScore</th>\n",
       "    </tr>\n",
       "  </thead>\n",
       "  <tbody>\n",
       "    <tr>\n",
       "      <th>count</th>\n",
       "      <td>19785.000000</td>\n",
       "      <td>19785.00000</td>\n",
       "      <td>19785.000000</td>\n",
       "      <td>19785.000000</td>\n",
       "      <td>19785.000000</td>\n",
       "      <td>19785.000000</td>\n",
       "      <td>19785.000000</td>\n",
       "      <td>19785.000000</td>\n",
       "      <td>19785.000000</td>\n",
       "      <td>19785.000000</td>\n",
       "      <td>...</td>\n",
       "      <td>19785.000000</td>\n",
       "      <td>19785.000000</td>\n",
       "      <td>1.978500e+04</td>\n",
       "      <td>19785.000000</td>\n",
       "      <td>19785.000000</td>\n",
       "      <td>19785.000000</td>\n",
       "      <td>19785.000000</td>\n",
       "      <td>19785.00000</td>\n",
       "      <td>19785.000000</td>\n",
       "      <td>19785.000000</td>\n",
       "    </tr>\n",
       "    <tr>\n",
       "      <th>mean</th>\n",
       "      <td>28.685924</td>\n",
       "      <td>188.27349</td>\n",
       "      <td>5.792583</td>\n",
       "      <td>1.154720</td>\n",
       "      <td>1.525532</td>\n",
       "      <td>1.606644</td>\n",
       "      <td>1.709182</td>\n",
       "      <td>1.305533</td>\n",
       "      <td>4.763189</td>\n",
       "      <td>1.440521</td>\n",
       "      <td>...</td>\n",
       "      <td>-678.142115</td>\n",
       "      <td>-665.168830</td>\n",
       "      <td>1.784082e+03</td>\n",
       "      <td>-315.985494</td>\n",
       "      <td>-524.311372</td>\n",
       "      <td>-884.736938</td>\n",
       "      <td>2.035178</td>\n",
       "      <td>119.21491</td>\n",
       "      <td>2.370660</td>\n",
       "      <td>6.902067</td>\n",
       "    </tr>\n",
       "    <tr>\n",
       "      <th>std</th>\n",
       "      <td>30.174684</td>\n",
       "      <td>43.89736</td>\n",
       "      <td>0.412803</td>\n",
       "      <td>0.429020</td>\n",
       "      <td>0.719994</td>\n",
       "      <td>0.720510</td>\n",
       "      <td>0.742891</td>\n",
       "      <td>0.615360</td>\n",
       "      <td>0.752729</td>\n",
       "      <td>0.712851</td>\n",
       "      <td>...</td>\n",
       "      <td>390.426930</td>\n",
       "      <td>421.823564</td>\n",
       "      <td>2.256310e+04</td>\n",
       "      <td>443.087083</td>\n",
       "      <td>440.143134</td>\n",
       "      <td>145.389557</td>\n",
       "      <td>1.113493</td>\n",
       "      <td>3321.59351</td>\n",
       "      <td>1.168924</td>\n",
       "      <td>1.482743</td>\n",
       "    </tr>\n",
       "    <tr>\n",
       "      <th>min</th>\n",
       "      <td>0.000000</td>\n",
       "      <td>79.00000</td>\n",
       "      <td>1.904832</td>\n",
       "      <td>1.000000</td>\n",
       "      <td>1.000000</td>\n",
       "      <td>1.000000</td>\n",
       "      <td>1.000000</td>\n",
       "      <td>1.000000</td>\n",
       "      <td>1.313262</td>\n",
       "      <td>1.000000</td>\n",
       "      <td>...</td>\n",
       "      <td>-888.000000</td>\n",
       "      <td>-888.000000</td>\n",
       "      <td>-8.880000e+02</td>\n",
       "      <td>-888.000000</td>\n",
       "      <td>-888.000000</td>\n",
       "      <td>-888.000000</td>\n",
       "      <td>0.000000</td>\n",
       "      <td>-888.00000</td>\n",
       "      <td>0.000000</td>\n",
       "      <td>2.000000</td>\n",
       "    </tr>\n",
       "    <tr>\n",
       "      <th>25%</th>\n",
       "      <td>8.000000</td>\n",
       "      <td>167.00000</td>\n",
       "      <td>5.644451</td>\n",
       "      <td>1.000000</td>\n",
       "      <td>1.000000</td>\n",
       "      <td>1.000000</td>\n",
       "      <td>1.000000</td>\n",
       "      <td>1.000000</td>\n",
       "      <td>4.485466</td>\n",
       "      <td>1.000000</td>\n",
       "      <td>...</td>\n",
       "      <td>-888.000000</td>\n",
       "      <td>-888.000000</td>\n",
       "      <td>0.000000e+00</td>\n",
       "      <td>-888.000000</td>\n",
       "      <td>-888.000000</td>\n",
       "      <td>-888.000000</td>\n",
       "      <td>1.000000</td>\n",
       "      <td>-888.00000</td>\n",
       "      <td>1.500000</td>\n",
       "      <td>5.300000</td>\n",
       "    </tr>\n",
       "    <tr>\n",
       "      <th>50%</th>\n",
       "      <td>19.000000</td>\n",
       "      <td>201.00000</td>\n",
       "      <td>5.896380</td>\n",
       "      <td>1.000000</td>\n",
       "      <td>1.000000</td>\n",
       "      <td>1.000000</td>\n",
       "      <td>1.000000</td>\n",
       "      <td>1.000000</td>\n",
       "      <td>4.939628</td>\n",
       "      <td>1.000000</td>\n",
       "      <td>...</td>\n",
       "      <td>-888.000000</td>\n",
       "      <td>-888.000000</td>\n",
       "      <td>0.000000e+00</td>\n",
       "      <td>15.000000</td>\n",
       "      <td>-888.000000</td>\n",
       "      <td>-888.000000</td>\n",
       "      <td>2.000000</td>\n",
       "      <td>-888.00000</td>\n",
       "      <td>2.000000</td>\n",
       "      <td>7.500000</td>\n",
       "    </tr>\n",
       "    <tr>\n",
       "      <th>75%</th>\n",
       "      <td>39.000000</td>\n",
       "      <td>222.00000</td>\n",
       "      <td>6.070087</td>\n",
       "      <td>1.000000</td>\n",
       "      <td>2.165422</td>\n",
       "      <td>2.274009</td>\n",
       "      <td>2.543040</td>\n",
       "      <td>1.000000</td>\n",
       "      <td>5.306872</td>\n",
       "      <td>2.043592</td>\n",
       "      <td>...</td>\n",
       "      <td>-888.000000</td>\n",
       "      <td>-888.000000</td>\n",
       "      <td>0.000000e+00</td>\n",
       "      <td>27.000000</td>\n",
       "      <td>2.500000</td>\n",
       "      <td>-888.000000</td>\n",
       "      <td>3.000000</td>\n",
       "      <td>1650.00000</td>\n",
       "      <td>3.000000</td>\n",
       "      <td>7.800000</td>\n",
       "    </tr>\n",
       "    <tr>\n",
       "      <th>max</th>\n",
       "      <td>370.000000</td>\n",
       "      <td>244.00000</td>\n",
       "      <td>6.147866</td>\n",
       "      <td>2.929501</td>\n",
       "      <td>2.929501</td>\n",
       "      <td>3.031016</td>\n",
       "      <td>3.031016</td>\n",
       "      <td>2.929501</td>\n",
       "      <td>5.500108</td>\n",
       "      <td>2.929501</td>\n",
       "      <td>...</td>\n",
       "      <td>1650.000000</td>\n",
       "      <td>2633.000000</td>\n",
       "      <td>2.178000e+06</td>\n",
       "      <td>167.000000</td>\n",
       "      <td>100.000000</td>\n",
       "      <td>12375.769531</td>\n",
       "      <td>15.000000</td>\n",
       "      <td>408984.00000</td>\n",
       "      <td>9.000000</td>\n",
       "      <td>10.000000</td>\n",
       "    </tr>\n",
       "  </tbody>\n",
       "</table>\n",
       "<p>8 rows × 37 columns</p>\n",
       "</div>"
      ],
      "text/plain": [
       "          list_days  days_to_now       ad_text  prop_feat6_out  \\\n",
       "count  19785.000000  19785.00000  19785.000000    19785.000000   \n",
       "mean      28.685924    188.27349      5.792583        1.154720   \n",
       "std       30.174684     43.89736      0.412803        0.429020   \n",
       "min        0.000000     79.00000      1.904832        1.000000   \n",
       "25%        8.000000    167.00000      5.644451        1.000000   \n",
       "50%       19.000000    201.00000      5.896380        1.000000   \n",
       "75%       39.000000    222.00000      6.070087        1.000000   \n",
       "max      370.000000    244.00000      6.147866        2.929501   \n",
       "\n",
       "       prop_feat3_out  prop_feat2_out  prop_feat1_out  prop_feat5_out  \\\n",
       "count    19785.000000    19785.000000    19785.000000    19785.000000   \n",
       "mean         1.525532        1.606644        1.709182        1.305533   \n",
       "std          0.719994        0.720510        0.742891        0.615360   \n",
       "min          1.000000        1.000000        1.000000        1.000000   \n",
       "25%          1.000000        1.000000        1.000000        1.000000   \n",
       "50%          1.000000        1.000000        1.000000        1.000000   \n",
       "75%          2.165422        2.274009        2.543040        1.000000   \n",
       "max          2.929501        3.031016        3.031016        2.929501   \n",
       "\n",
       "             extras  prop_feat4_out           ...             \\\n",
       "count  19785.000000    19785.000000           ...              \n",
       "mean       4.763189        1.440521           ...              \n",
       "std        0.752729        0.712851           ...              \n",
       "min        1.313262        1.000000           ...              \n",
       "25%        4.485466        1.000000           ...              \n",
       "50%        4.939628        1.000000           ...              \n",
       "75%        5.306872        2.043592           ...              \n",
       "max        5.500108        2.929501           ...              \n",
       "\n",
       "       front_adjustedInFt  depth_adjustedInFt     land_size       dom_avg  \\\n",
       "count        19785.000000        19785.000000  1.978500e+04  19785.000000   \n",
       "mean          -678.142115         -665.168830  1.784082e+03   -315.985494   \n",
       "std            390.426930          421.823564  2.256310e+04    443.087083   \n",
       "min           -888.000000         -888.000000 -8.880000e+02   -888.000000   \n",
       "25%           -888.000000         -888.000000  0.000000e+00   -888.000000   \n",
       "50%           -888.000000         -888.000000  0.000000e+00     15.000000   \n",
       "75%           -888.000000         -888.000000  0.000000e+00     27.000000   \n",
       "max           1650.000000         2633.000000  2.178000e+06    167.000000   \n",
       "\n",
       "       yr_built_lvl         taxes      bath_num  estimateRent      br_final  \\\n",
       "count  19785.000000  19785.000000  19785.000000   19785.00000  19785.000000   \n",
       "mean    -524.311372   -884.736938      2.035178     119.21491      2.370660   \n",
       "std      440.143134    145.389557      1.113493    3321.59351      1.168924   \n",
       "min     -888.000000   -888.000000      0.000000    -888.00000      0.000000   \n",
       "25%     -888.000000   -888.000000      1.000000    -888.00000      1.500000   \n",
       "50%     -888.000000   -888.000000      2.000000    -888.00000      2.000000   \n",
       "75%        2.500000   -888.000000      3.000000    1650.00000      3.000000   \n",
       "max      100.000000  12375.769531     15.000000  408984.00000      9.000000   \n",
       "\n",
       "       topBelowHighschoolScore  \n",
       "count             19785.000000  \n",
       "mean                  6.902067  \n",
       "std                   1.482743  \n",
       "min                   2.000000  \n",
       "25%                   5.300000  \n",
       "50%                   7.500000  \n",
       "75%                   7.800000  \n",
       "max                  10.000000  \n",
       "\n",
       "[8 rows x 37 columns]"
      ]
     },
     "execution_count": 234,
     "metadata": {},
     "output_type": "execute_result"
    }
   ],
   "source": [
    "nfs.describe()"
   ]
  },
  {
   "cell_type": "code",
   "execution_count": 156,
   "metadata": {},
   "outputs": [
    {
     "data": {
      "text/plain": [
       "count    19785.000000\n",
       "mean         1.543644\n",
       "std          7.047298\n",
       "min       -888.000000\n",
       "25%          1.000000\n",
       "50%          1.000000\n",
       "75%          2.000000\n",
       "max        318.000000\n",
       "Name: park_spcs, dtype: float64"
      ]
     },
     "execution_count": 156,
     "metadata": {},
     "output_type": "execute_result"
    }
   ],
   "source": [
    "nfs.describe()['park_spcs']"
   ]
  },
  {
   "cell_type": "code",
   "execution_count": 235,
   "metadata": {},
   "outputs": [],
   "source": [
    "rlist = ['prop_feat3_out', 'prop_feat6_out', 'prop_feat2_out','prop_feat1_out', 'prop_feat4_out', 'prop_feat5_out',\\\n",
    "        'est_rent_yearreturn_percentile', 'land_size', 'dom', 'yr_built_lvl', 'price_sold_growth_yoy_percentile', \\\n",
    "         'price_sold_growth_yoy', 'estimateRent', 'park_spcs']\n",
    "nfeats = nfs.drop(rlist, axis=1)\n",
    "nfeats = nfeats.drop(\"taxes\", axis=1)\n",
    "m = nfeats[\"gar_spaces\"] < 10\n",
    "nfeats.where(m, nfeats[\"gar_spaces\"] / 10, axis=1,inplace=True)"
   ]
  },
  {
   "cell_type": "code",
   "execution_count": 236,
   "metadata": {
    "collapsed": true
   },
   "outputs": [],
   "source": [
    "nfeats = nfeats[nfeats['lp_dol'] >= 1000]\n",
    "nfeats = nfeats[nfeats['lp_dol'] <= 10000]"
   ]
  },
  {
   "cell_type": "code",
   "execution_count": 237,
   "metadata": {},
   "outputs": [
    {
     "data": {
      "text/html": [
       "<div>\n",
       "<style>\n",
       "    .dataframe thead tr:only-child th {\n",
       "        text-align: right;\n",
       "    }\n",
       "\n",
       "    .dataframe thead th {\n",
       "        text-align: left;\n",
       "    }\n",
       "\n",
       "    .dataframe tbody tr th {\n",
       "        vertical-align: top;\n",
       "    }\n",
       "</style>\n",
       "<table border=\"1\" class=\"dataframe\">\n",
       "  <thead>\n",
       "    <tr style=\"text-align: right;\">\n",
       "      <th></th>\n",
       "      <th>list_days</th>\n",
       "      <th>days_to_now</th>\n",
       "      <th>ad_text</th>\n",
       "      <th>extras</th>\n",
       "      <th>topHighschoolScore</th>\n",
       "      <th>latitude</th>\n",
       "      <th>basement_status</th>\n",
       "      <th>sqft_level</th>\n",
       "      <th>gar_spaces</th>\n",
       "      <th>price_sold_median</th>\n",
       "      <th>...</th>\n",
       "      <th>sqft_level_high</th>\n",
       "      <th>sqft_level_low</th>\n",
       "      <th>photo_num</th>\n",
       "      <th>longitude</th>\n",
       "      <th>front_adjustedInFt</th>\n",
       "      <th>depth_adjustedInFt</th>\n",
       "      <th>dom_avg</th>\n",
       "      <th>bath_num</th>\n",
       "      <th>br_final</th>\n",
       "      <th>topBelowHighschoolScore</th>\n",
       "    </tr>\n",
       "  </thead>\n",
       "  <tbody>\n",
       "    <tr>\n",
       "      <th>count</th>\n",
       "      <td>19341.000000</td>\n",
       "      <td>19341.000000</td>\n",
       "      <td>19341.000000</td>\n",
       "      <td>19341.000000</td>\n",
       "      <td>19341.000000</td>\n",
       "      <td>19341.000000</td>\n",
       "      <td>19341.000000</td>\n",
       "      <td>19341.000000</td>\n",
       "      <td>19341.000000</td>\n",
       "      <td>1.934100e+04</td>\n",
       "      <td>...</td>\n",
       "      <td>19341.000000</td>\n",
       "      <td>19341.000000</td>\n",
       "      <td>19341.000000</td>\n",
       "      <td>19341.000000</td>\n",
       "      <td>19341.000000</td>\n",
       "      <td>19341.000000</td>\n",
       "      <td>19341.000000</td>\n",
       "      <td>19341.000000</td>\n",
       "      <td>19341.000000</td>\n",
       "      <td>19341.000000</td>\n",
       "    </tr>\n",
       "    <tr>\n",
       "      <th>mean</th>\n",
       "      <td>28.153250</td>\n",
       "      <td>188.253038</td>\n",
       "      <td>5.800188</td>\n",
       "      <td>4.776069</td>\n",
       "      <td>6.465643</td>\n",
       "      <td>43.239850</td>\n",
       "      <td>5.609379</td>\n",
       "      <td>841.413422</td>\n",
       "      <td>-497.462282</td>\n",
       "      <td>7.146814e+05</td>\n",
       "      <td>...</td>\n",
       "      <td>-281.031798</td>\n",
       "      <td>-381.166227</td>\n",
       "      <td>10.775710</td>\n",
       "      <td>-79.871697</td>\n",
       "      <td>-680.219116</td>\n",
       "      <td>-667.439294</td>\n",
       "      <td>-311.805439</td>\n",
       "      <td>2.047878</td>\n",
       "      <td>2.391241</td>\n",
       "      <td>6.911969</td>\n",
       "    </tr>\n",
       "    <tr>\n",
       "      <th>std</th>\n",
       "      <td>29.345302</td>\n",
       "      <td>43.909579</td>\n",
       "      <td>0.403903</td>\n",
       "      <td>0.740787</td>\n",
       "      <td>1.711233</td>\n",
       "      <td>21.181647</td>\n",
       "      <td>1.394254</td>\n",
       "      <td>824.527465</td>\n",
       "      <td>441.293616</td>\n",
       "      <td>4.795860e+05</td>\n",
       "      <td>...</td>\n",
       "      <td>1359.790855</td>\n",
       "      <td>1121.310770</td>\n",
       "      <td>6.062161</td>\n",
       "      <td>18.382144</td>\n",
       "      <td>388.956192</td>\n",
       "      <td>420.222179</td>\n",
       "      <td>441.972362</td>\n",
       "      <td>1.100617</td>\n",
       "      <td>1.159210</td>\n",
       "      <td>1.478996</td>\n",
       "    </tr>\n",
       "    <tr>\n",
       "      <th>min</th>\n",
       "      <td>0.000000</td>\n",
       "      <td>79.000000</td>\n",
       "      <td>1.904832</td>\n",
       "      <td>1.313262</td>\n",
       "      <td>0.000000</td>\n",
       "      <td>-888.000000</td>\n",
       "      <td>4.000000</td>\n",
       "      <td>0.000000</td>\n",
       "      <td>-888.000000</td>\n",
       "      <td>-8.880000e+02</td>\n",
       "      <td>...</td>\n",
       "      <td>-888.000000</td>\n",
       "      <td>-888.000000</td>\n",
       "      <td>1.000000</td>\n",
       "      <td>-888.000000</td>\n",
       "      <td>-888.000000</td>\n",
       "      <td>-888.000000</td>\n",
       "      <td>-888.000000</td>\n",
       "      <td>0.000000</td>\n",
       "      <td>0.000000</td>\n",
       "      <td>2.000000</td>\n",
       "    </tr>\n",
       "    <tr>\n",
       "      <th>25%</th>\n",
       "      <td>8.000000</td>\n",
       "      <td>168.000000</td>\n",
       "      <td>5.651500</td>\n",
       "      <td>4.507759</td>\n",
       "      <td>5.000000</td>\n",
       "      <td>43.641728</td>\n",
       "      <td>5.000000</td>\n",
       "      <td>0.000000</td>\n",
       "      <td>-888.000000</td>\n",
       "      <td>4.705000e+05</td>\n",
       "      <td>...</td>\n",
       "      <td>-888.000000</td>\n",
       "      <td>-888.000000</td>\n",
       "      <td>6.000000</td>\n",
       "      <td>-79.528883</td>\n",
       "      <td>-888.000000</td>\n",
       "      <td>-888.000000</td>\n",
       "      <td>-888.000000</td>\n",
       "      <td>1.000000</td>\n",
       "      <td>1.500000</td>\n",
       "      <td>5.300000</td>\n",
       "    </tr>\n",
       "    <tr>\n",
       "      <th>50%</th>\n",
       "      <td>18.000000</td>\n",
       "      <td>201.000000</td>\n",
       "      <td>5.901863</td>\n",
       "      <td>4.953841</td>\n",
       "      <td>6.900000</td>\n",
       "      <td>43.685242</td>\n",
       "      <td>5.000000</td>\n",
       "      <td>649.500000</td>\n",
       "      <td>-888.000000</td>\n",
       "      <td>5.615000e+05</td>\n",
       "      <td>...</td>\n",
       "      <td>-888.000000</td>\n",
       "      <td>-888.000000</td>\n",
       "      <td>10.000000</td>\n",
       "      <td>-79.410245</td>\n",
       "      <td>-888.000000</td>\n",
       "      <td>-888.000000</td>\n",
       "      <td>15.000000</td>\n",
       "      <td>2.000000</td>\n",
       "      <td>2.000000</td>\n",
       "      <td>7.500000</td>\n",
       "    </tr>\n",
       "    <tr>\n",
       "      <th>75%</th>\n",
       "      <td>39.000000</td>\n",
       "      <td>222.000000</td>\n",
       "      <td>6.072395</td>\n",
       "      <td>5.311817</td>\n",
       "      <td>7.800000</td>\n",
       "      <td>43.794296</td>\n",
       "      <td>5.000000</td>\n",
       "      <td>1099.500000</td>\n",
       "      <td>1.000000</td>\n",
       "      <td>8.500000e+05</td>\n",
       "      <td>...</td>\n",
       "      <td>-888.000000</td>\n",
       "      <td>-888.000000</td>\n",
       "      <td>16.000000</td>\n",
       "      <td>-79.381660</td>\n",
       "      <td>-888.000000</td>\n",
       "      <td>-888.000000</td>\n",
       "      <td>27.000000</td>\n",
       "      <td>3.000000</td>\n",
       "      <td>3.000000</td>\n",
       "      <td>7.800000</td>\n",
       "    </tr>\n",
       "    <tr>\n",
       "      <th>max</th>\n",
       "      <td>370.000000</td>\n",
       "      <td>244.000000</td>\n",
       "      <td>6.147866</td>\n",
       "      <td>5.500108</td>\n",
       "      <td>9.100000</td>\n",
       "      <td>45.481655</td>\n",
       "      <td>10.000000</td>\n",
       "      <td>5000.000000</td>\n",
       "      <td>8.000000</td>\n",
       "      <td>4.625000e+06</td>\n",
       "      <td>...</td>\n",
       "      <td>10000.000000</td>\n",
       "      <td>5000.000000</td>\n",
       "      <td>20.000000</td>\n",
       "      <td>-75.542448</td>\n",
       "      <td>1650.000000</td>\n",
       "      <td>2633.000000</td>\n",
       "      <td>167.000000</td>\n",
       "      <td>15.000000</td>\n",
       "      <td>9.000000</td>\n",
       "      <td>10.000000</td>\n",
       "    </tr>\n",
       "  </tbody>\n",
       "</table>\n",
       "<p>8 rows × 22 columns</p>\n",
       "</div>"
      ],
      "text/plain": [
       "          list_days   days_to_now       ad_text        extras  \\\n",
       "count  19341.000000  19341.000000  19341.000000  19341.000000   \n",
       "mean      28.153250    188.253038      5.800188      4.776069   \n",
       "std       29.345302     43.909579      0.403903      0.740787   \n",
       "min        0.000000     79.000000      1.904832      1.313262   \n",
       "25%        8.000000    168.000000      5.651500      4.507759   \n",
       "50%       18.000000    201.000000      5.901863      4.953841   \n",
       "75%       39.000000    222.000000      6.072395      5.311817   \n",
       "max      370.000000    244.000000      6.147866      5.500108   \n",
       "\n",
       "       topHighschoolScore      latitude  basement_status    sqft_level  \\\n",
       "count        19341.000000  19341.000000     19341.000000  19341.000000   \n",
       "mean             6.465643     43.239850         5.609379    841.413422   \n",
       "std              1.711233     21.181647         1.394254    824.527465   \n",
       "min              0.000000   -888.000000         4.000000      0.000000   \n",
       "25%              5.000000     43.641728         5.000000      0.000000   \n",
       "50%              6.900000     43.685242         5.000000    649.500000   \n",
       "75%              7.800000     43.794296         5.000000   1099.500000   \n",
       "max              9.100000     45.481655        10.000000   5000.000000   \n",
       "\n",
       "         gar_spaces  price_sold_median           ...             \\\n",
       "count  19341.000000       1.934100e+04           ...              \n",
       "mean    -497.462282       7.146814e+05           ...              \n",
       "std      441.293616       4.795860e+05           ...              \n",
       "min     -888.000000      -8.880000e+02           ...              \n",
       "25%     -888.000000       4.705000e+05           ...              \n",
       "50%     -888.000000       5.615000e+05           ...              \n",
       "75%        1.000000       8.500000e+05           ...              \n",
       "max        8.000000       4.625000e+06           ...              \n",
       "\n",
       "       sqft_level_high  sqft_level_low     photo_num     longitude  \\\n",
       "count     19341.000000    19341.000000  19341.000000  19341.000000   \n",
       "mean       -281.031798     -381.166227     10.775710    -79.871697   \n",
       "std        1359.790855     1121.310770      6.062161     18.382144   \n",
       "min        -888.000000     -888.000000      1.000000   -888.000000   \n",
       "25%        -888.000000     -888.000000      6.000000    -79.528883   \n",
       "50%        -888.000000     -888.000000     10.000000    -79.410245   \n",
       "75%        -888.000000     -888.000000     16.000000    -79.381660   \n",
       "max       10000.000000     5000.000000     20.000000    -75.542448   \n",
       "\n",
       "       front_adjustedInFt  depth_adjustedInFt       dom_avg      bath_num  \\\n",
       "count        19341.000000        19341.000000  19341.000000  19341.000000   \n",
       "mean          -680.219116         -667.439294   -311.805439      2.047878   \n",
       "std            388.956192          420.222179    441.972362      1.100617   \n",
       "min           -888.000000         -888.000000   -888.000000      0.000000   \n",
       "25%           -888.000000         -888.000000   -888.000000      1.000000   \n",
       "50%           -888.000000         -888.000000     15.000000      2.000000   \n",
       "75%           -888.000000         -888.000000     27.000000      3.000000   \n",
       "max           1650.000000         2633.000000    167.000000     15.000000   \n",
       "\n",
       "           br_final  topBelowHighschoolScore  \n",
       "count  19341.000000             19341.000000  \n",
       "mean       2.391241                 6.911969  \n",
       "std        1.159210                 1.478996  \n",
       "min        0.000000                 2.000000  \n",
       "25%        1.500000                 5.300000  \n",
       "50%        2.000000                 7.500000  \n",
       "75%        3.000000                 7.800000  \n",
       "max        9.000000                10.000000  \n",
       "\n",
       "[8 rows x 22 columns]"
      ]
     },
     "execution_count": 237,
     "metadata": {},
     "output_type": "execute_result"
    }
   ],
   "source": [
    "nfeats.describe()"
   ]
  },
  {
   "cell_type": "code",
   "execution_count": 238,
   "metadata": {},
   "outputs": [
    {
     "data": {
      "text/html": [
       "<div>\n",
       "<style>\n",
       "    .dataframe thead tr:only-child th {\n",
       "        text-align: right;\n",
       "    }\n",
       "\n",
       "    .dataframe thead th {\n",
       "        text-align: left;\n",
       "    }\n",
       "\n",
       "    .dataframe tbody tr th {\n",
       "        vertical-align: top;\n",
       "    }\n",
       "</style>\n",
       "<table border=\"1\" class=\"dataframe\">\n",
       "  <thead>\n",
       "    <tr style=\"text-align: right;\">\n",
       "      <th></th>\n",
       "      <th>list_days</th>\n",
       "      <th>days_to_now</th>\n",
       "      <th>ad_text</th>\n",
       "      <th>extras</th>\n",
       "      <th>topHighschoolScore</th>\n",
       "      <th>latitude</th>\n",
       "      <th>basement_status</th>\n",
       "      <th>sqft_level</th>\n",
       "      <th>gar_spaces</th>\n",
       "      <th>price_sold_median</th>\n",
       "      <th>...</th>\n",
       "      <th>sqft_level_high</th>\n",
       "      <th>sqft_level_low</th>\n",
       "      <th>photo_num</th>\n",
       "      <th>longitude</th>\n",
       "      <th>front_adjustedInFt</th>\n",
       "      <th>depth_adjustedInFt</th>\n",
       "      <th>dom_avg</th>\n",
       "      <th>bath_num</th>\n",
       "      <th>br_final</th>\n",
       "      <th>topBelowHighschoolScore</th>\n",
       "    </tr>\n",
       "  </thead>\n",
       "  <tbody>\n",
       "    <tr>\n",
       "      <th>0</th>\n",
       "      <td>247.0</td>\n",
       "      <td>153.0</td>\n",
       "      <td>5.732429</td>\n",
       "      <td>4.002198</td>\n",
       "      <td>4.1</td>\n",
       "      <td>43.640415</td>\n",
       "      <td>6.0</td>\n",
       "      <td>1300.0</td>\n",
       "      <td>NaN</td>\n",
       "      <td>NaN</td>\n",
       "      <td>...</td>\n",
       "      <td>1500.0</td>\n",
       "      <td>1100.0</td>\n",
       "      <td>1.0</td>\n",
       "      <td>-79.436709</td>\n",
       "      <td>20.00</td>\n",
       "      <td>100.00</td>\n",
       "      <td>NaN</td>\n",
       "      <td>4.0</td>\n",
       "      <td>NaN</td>\n",
       "      <td>8.0</td>\n",
       "    </tr>\n",
       "    <tr>\n",
       "      <th>1</th>\n",
       "      <td>181.0</td>\n",
       "      <td>218.0</td>\n",
       "      <td>6.141431</td>\n",
       "      <td>5.340985</td>\n",
       "      <td>5.0</td>\n",
       "      <td>44.908812</td>\n",
       "      <td>6.0</td>\n",
       "      <td>2250.0</td>\n",
       "      <td>1.0</td>\n",
       "      <td>NaN</td>\n",
       "      <td>...</td>\n",
       "      <td>2500.0</td>\n",
       "      <td>2000.0</td>\n",
       "      <td>20.0</td>\n",
       "      <td>-79.387793</td>\n",
       "      <td>NaN</td>\n",
       "      <td>NaN</td>\n",
       "      <td>NaN</td>\n",
       "      <td>3.0</td>\n",
       "      <td>3.5</td>\n",
       "      <td>5.0</td>\n",
       "    </tr>\n",
       "    <tr>\n",
       "      <th>2</th>\n",
       "      <td>173.0</td>\n",
       "      <td>244.0</td>\n",
       "      <td>5.157435</td>\n",
       "      <td>5.387785</td>\n",
       "      <td>6.3</td>\n",
       "      <td>43.688670</td>\n",
       "      <td>5.0</td>\n",
       "      <td>NaN</td>\n",
       "      <td>1.0</td>\n",
       "      <td>780000.0</td>\n",
       "      <td>...</td>\n",
       "      <td>NaN</td>\n",
       "      <td>NaN</td>\n",
       "      <td>4.0</td>\n",
       "      <td>-79.827221</td>\n",
       "      <td>NaN</td>\n",
       "      <td>NaN</td>\n",
       "      <td>15.0</td>\n",
       "      <td>5.0</td>\n",
       "      <td>4.5</td>\n",
       "      <td>5.0</td>\n",
       "    </tr>\n",
       "    <tr>\n",
       "      <th>3</th>\n",
       "      <td>191.0</td>\n",
       "      <td>214.0</td>\n",
       "      <td>5.825169</td>\n",
       "      <td>4.200479</td>\n",
       "      <td>5.0</td>\n",
       "      <td>43.060225</td>\n",
       "      <td>4.0</td>\n",
       "      <td>NaN</td>\n",
       "      <td>2.0</td>\n",
       "      <td>NaN</td>\n",
       "      <td>...</td>\n",
       "      <td>NaN</td>\n",
       "      <td>NaN</td>\n",
       "      <td>20.0</td>\n",
       "      <td>-79.140513</td>\n",
       "      <td>36.09</td>\n",
       "      <td>91.86</td>\n",
       "      <td>NaN</td>\n",
       "      <td>4.0</td>\n",
       "      <td>4.0</td>\n",
       "      <td>5.0</td>\n",
       "    </tr>\n",
       "    <tr>\n",
       "      <th>4</th>\n",
       "      <td>160.0</td>\n",
       "      <td>241.0</td>\n",
       "      <td>5.952511</td>\n",
       "      <td>4.776753</td>\n",
       "      <td>5.0</td>\n",
       "      <td>44.158866</td>\n",
       "      <td>4.0</td>\n",
       "      <td>2250.0</td>\n",
       "      <td>2.0</td>\n",
       "      <td>NaN</td>\n",
       "      <td>...</td>\n",
       "      <td>2500.0</td>\n",
       "      <td>2000.0</td>\n",
       "      <td>6.0</td>\n",
       "      <td>-79.787816</td>\n",
       "      <td>36.00</td>\n",
       "      <td>110.00</td>\n",
       "      <td>NaN</td>\n",
       "      <td>3.0</td>\n",
       "      <td>4.0</td>\n",
       "      <td>5.0</td>\n",
       "    </tr>\n",
       "    <tr>\n",
       "      <th>5</th>\n",
       "      <td>157.0</td>\n",
       "      <td>240.0</td>\n",
       "      <td>5.281773</td>\n",
       "      <td>5.316738</td>\n",
       "      <td>5.0</td>\n",
       "      <td>42.912888</td>\n",
       "      <td>10.0</td>\n",
       "      <td>2250.0</td>\n",
       "      <td>3.0</td>\n",
       "      <td>NaN</td>\n",
       "      <td>...</td>\n",
       "      <td>2500.0</td>\n",
       "      <td>2000.0</td>\n",
       "      <td>1.0</td>\n",
       "      <td>-79.265382</td>\n",
       "      <td>1650.00</td>\n",
       "      <td>1320.00</td>\n",
       "      <td>NaN</td>\n",
       "      <td>2.0</td>\n",
       "      <td>4.0</td>\n",
       "      <td>5.0</td>\n",
       "    </tr>\n",
       "    <tr>\n",
       "      <th>6</th>\n",
       "      <td>181.0</td>\n",
       "      <td>214.0</td>\n",
       "      <td>5.487773</td>\n",
       "      <td>5.286843</td>\n",
       "      <td>8.7</td>\n",
       "      <td>43.879865</td>\n",
       "      <td>5.0</td>\n",
       "      <td>3250.0</td>\n",
       "      <td>2.0</td>\n",
       "      <td>1580000.0</td>\n",
       "      <td>...</td>\n",
       "      <td>3500.0</td>\n",
       "      <td>3000.0</td>\n",
       "      <td>17.0</td>\n",
       "      <td>-79.297306</td>\n",
       "      <td>NaN</td>\n",
       "      <td>120.41</td>\n",
       "      <td>NaN</td>\n",
       "      <td>3.0</td>\n",
       "      <td>4.0</td>\n",
       "      <td>8.2</td>\n",
       "    </tr>\n",
       "    <tr>\n",
       "      <th>7</th>\n",
       "      <td>266.0</td>\n",
       "      <td>148.0</td>\n",
       "      <td>6.143581</td>\n",
       "      <td>5.245540</td>\n",
       "      <td>5.0</td>\n",
       "      <td>43.641930</td>\n",
       "      <td>5.0</td>\n",
       "      <td>1299.5</td>\n",
       "      <td>NaN</td>\n",
       "      <td>538000.0</td>\n",
       "      <td>...</td>\n",
       "      <td>NaN</td>\n",
       "      <td>NaN</td>\n",
       "      <td>20.0</td>\n",
       "      <td>-79.381494</td>\n",
       "      <td>NaN</td>\n",
       "      <td>NaN</td>\n",
       "      <td>39.0</td>\n",
       "      <td>2.0</td>\n",
       "      <td>2.0</td>\n",
       "      <td>7.5</td>\n",
       "    </tr>\n",
       "    <tr>\n",
       "      <th>8</th>\n",
       "      <td>202.0</td>\n",
       "      <td>191.0</td>\n",
       "      <td>5.990760</td>\n",
       "      <td>4.518722</td>\n",
       "      <td>6.7</td>\n",
       "      <td>43.753532</td>\n",
       "      <td>8.0</td>\n",
       "      <td>NaN</td>\n",
       "      <td>1.0</td>\n",
       "      <td>621667.0</td>\n",
       "      <td>...</td>\n",
       "      <td>NaN</td>\n",
       "      <td>NaN</td>\n",
       "      <td>1.0</td>\n",
       "      <td>-79.728623</td>\n",
       "      <td>NaN</td>\n",
       "      <td>NaN</td>\n",
       "      <td>NaN</td>\n",
       "      <td>1.0</td>\n",
       "      <td>2.0</td>\n",
       "      <td>5.0</td>\n",
       "    </tr>\n",
       "    <tr>\n",
       "      <th>10</th>\n",
       "      <td>216.0</td>\n",
       "      <td>242.0</td>\n",
       "      <td>6.072395</td>\n",
       "      <td>3.945811</td>\n",
       "      <td>8.3</td>\n",
       "      <td>43.788763</td>\n",
       "      <td>5.0</td>\n",
       "      <td>1300.0</td>\n",
       "      <td>NaN</td>\n",
       "      <td>1007500.0</td>\n",
       "      <td>...</td>\n",
       "      <td>1500.0</td>\n",
       "      <td>1100.0</td>\n",
       "      <td>10.0</td>\n",
       "      <td>-79.288917</td>\n",
       "      <td>64.00</td>\n",
       "      <td>231.00</td>\n",
       "      <td>NaN</td>\n",
       "      <td>2.0</td>\n",
       "      <td>4.0</td>\n",
       "      <td>7.9</td>\n",
       "    </tr>\n",
       "  </tbody>\n",
       "</table>\n",
       "<p>10 rows × 22 columns</p>\n",
       "</div>"
      ],
      "text/plain": [
       "    list_days  days_to_now   ad_text    extras  topHighschoolScore   latitude  \\\n",
       "0       247.0        153.0  5.732429  4.002198                 4.1  43.640415   \n",
       "1       181.0        218.0  6.141431  5.340985                 5.0  44.908812   \n",
       "2       173.0        244.0  5.157435  5.387785                 6.3  43.688670   \n",
       "3       191.0        214.0  5.825169  4.200479                 5.0  43.060225   \n",
       "4       160.0        241.0  5.952511  4.776753                 5.0  44.158866   \n",
       "5       157.0        240.0  5.281773  5.316738                 5.0  42.912888   \n",
       "6       181.0        214.0  5.487773  5.286843                 8.7  43.879865   \n",
       "7       266.0        148.0  6.143581  5.245540                 5.0  43.641930   \n",
       "8       202.0        191.0  5.990760  4.518722                 6.7  43.753532   \n",
       "10      216.0        242.0  6.072395  3.945811                 8.3  43.788763   \n",
       "\n",
       "    basement_status  sqft_level  gar_spaces  price_sold_median  \\\n",
       "0               6.0      1300.0         NaN                NaN   \n",
       "1               6.0      2250.0         1.0                NaN   \n",
       "2               5.0         NaN         1.0           780000.0   \n",
       "3               4.0         NaN         2.0                NaN   \n",
       "4               4.0      2250.0         2.0                NaN   \n",
       "5              10.0      2250.0         3.0                NaN   \n",
       "6               5.0      3250.0         2.0          1580000.0   \n",
       "7               5.0      1299.5         NaN           538000.0   \n",
       "8               8.0         NaN         1.0           621667.0   \n",
       "10              5.0      1300.0         NaN          1007500.0   \n",
       "\n",
       "             ...             sqft_level_high  sqft_level_low  photo_num  \\\n",
       "0            ...                      1500.0          1100.0        1.0   \n",
       "1            ...                      2500.0          2000.0       20.0   \n",
       "2            ...                         NaN             NaN        4.0   \n",
       "3            ...                         NaN             NaN       20.0   \n",
       "4            ...                      2500.0          2000.0        6.0   \n",
       "5            ...                      2500.0          2000.0        1.0   \n",
       "6            ...                      3500.0          3000.0       17.0   \n",
       "7            ...                         NaN             NaN       20.0   \n",
       "8            ...                         NaN             NaN        1.0   \n",
       "10           ...                      1500.0          1100.0       10.0   \n",
       "\n",
       "    longitude  front_adjustedInFt  depth_adjustedInFt  dom_avg  bath_num  \\\n",
       "0  -79.436709               20.00              100.00      NaN       4.0   \n",
       "1  -79.387793                 NaN                 NaN      NaN       3.0   \n",
       "2  -79.827221                 NaN                 NaN     15.0       5.0   \n",
       "3  -79.140513               36.09               91.86      NaN       4.0   \n",
       "4  -79.787816               36.00              110.00      NaN       3.0   \n",
       "5  -79.265382             1650.00             1320.00      NaN       2.0   \n",
       "6  -79.297306                 NaN              120.41      NaN       3.0   \n",
       "7  -79.381494                 NaN                 NaN     39.0       2.0   \n",
       "8  -79.728623                 NaN                 NaN      NaN       1.0   \n",
       "10 -79.288917               64.00              231.00      NaN       2.0   \n",
       "\n",
       "    br_final  topBelowHighschoolScore  \n",
       "0        NaN                      8.0  \n",
       "1        3.5                      5.0  \n",
       "2        4.5                      5.0  \n",
       "3        4.0                      5.0  \n",
       "4        4.0                      5.0  \n",
       "5        4.0                      5.0  \n",
       "6        4.0                      8.2  \n",
       "7        2.0                      7.5  \n",
       "8        2.0                      5.0  \n",
       "10       4.0                      7.9  \n",
       "\n",
       "[10 rows x 22 columns]"
      ]
     },
     "execution_count": 238,
     "metadata": {},
     "output_type": "execute_result"
    }
   ],
   "source": [
    "nfeats[nfeats == 0] = np.nan\n",
    "nfeats[nfeats == -888] = np.nan\n",
    "nfeats.head(10)\n"
   ]
  },
  {
   "cell_type": "code",
   "execution_count": 239,
   "metadata": {
    "collapsed": true
   },
   "outputs": [],
   "source": [
    "#from sklearn.preprocessing import MinMaxScaler\n",
    "#scaler = MinMaxScaler()\n",
    "#nfeats_scaled = pd.DataFrame(scaler.fit_transform(nfeats), columns=df.columns)"
   ]
  },
  {
   "cell_type": "code",
   "execution_count": 240,
   "metadata": {
    "collapsed": true
   },
   "outputs": [],
   "source": [
    "nfeats.to_csv(\"datasets/process_nfeatures.csv\", sep=\"\\t\")\n"
   ]
  },
  {
   "cell_type": "code",
   "execution_count": 241,
   "metadata": {
    "collapsed": true
   },
   "outputs": [],
   "source": [
    "lat = nfeats['latitude'].copy()\n",
    "long = nfeats['longitude'].copy()\n",
    "y = nfeats['lp_dol'].copy()\n",
    "#nfeats = nfeats.drop(['latitude','longitude', 'lp_dol'], axis=1)   # test, removed for SVD imputation because of negative values.\n",
    "nfeats = nfeats.drop(['latitude','longitude'], axis=1)"
   ]
  },
  {
   "cell_type": "code",
   "execution_count": 242,
   "metadata": {
    "collapsed": true
   },
   "outputs": [],
   "source": [
    "X = nfeats.as_matrix()\n",
    "X[X == 0] = np.nan\n",
    "X[X == -888] = np.nan"
   ]
  },
  {
   "cell_type": "code",
   "execution_count": 243,
   "metadata": {},
   "outputs": [
    {
     "name": "stdout",
     "output_type": "stream",
     "text": [
      "[IterativeSVD] Iter 1: observed MAE=174.440577\n",
      "[IterativeSVD] Iter 2: observed MAE=91.323383\n",
      "[IterativeSVD] Iter 3: observed MAE=14.260103\n",
      "[IterativeSVD] Iter 4: observed MAE=2.981918\n"
     ]
    }
   ],
   "source": [
    "from fancyimpute import BiScaler, KNN, NuclearNormMinimization, SoftImpute,MatrixFactorization, IterativeSVD\n",
    "# Instead of solving the nuclear norm objective directly, instead\n",
    "# induce sparsity using singular value thresholding\n",
    "#X_filled_softimpute = SoftImpute().complete(X)\n",
    "biscaler = BiScaler()\n",
    "softImpute = SoftImpute()\n",
    "mf = MatrixFactorization()\n",
    "isvd = IterativeSVD()\n",
    "X_filled = isvd.complete(X)\n",
    "#X_filled = softImpute.complete(X_normalize)"
   ]
  },
  {
   "cell_type": "code",
   "execution_count": 244,
   "metadata": {},
   "outputs": [
    {
     "data": {
      "text/html": [
       "<div>\n",
       "<style>\n",
       "    .dataframe thead tr:only-child th {\n",
       "        text-align: right;\n",
       "    }\n",
       "\n",
       "    .dataframe thead th {\n",
       "        text-align: left;\n",
       "    }\n",
       "\n",
       "    .dataframe tbody tr th {\n",
       "        vertical-align: top;\n",
       "    }\n",
       "</style>\n",
       "<table border=\"1\" class=\"dataframe\">\n",
       "  <thead>\n",
       "    <tr style=\"text-align: right;\">\n",
       "      <th></th>\n",
       "      <th>list_days</th>\n",
       "      <th>days_to_now</th>\n",
       "      <th>ad_text</th>\n",
       "      <th>extras</th>\n",
       "      <th>topHighschoolScore</th>\n",
       "      <th>basement_status</th>\n",
       "      <th>sqft_level</th>\n",
       "      <th>gar_spaces</th>\n",
       "      <th>price_sold_median</th>\n",
       "      <th>lp_dol</th>\n",
       "      <th>...</th>\n",
       "      <th>sqft_level_high</th>\n",
       "      <th>sqft_level_low</th>\n",
       "      <th>photo_num</th>\n",
       "      <th>front_adjustedInFt</th>\n",
       "      <th>depth_adjustedInFt</th>\n",
       "      <th>dom_avg</th>\n",
       "      <th>bath_num</th>\n",
       "      <th>br_final</th>\n",
       "      <th>topBelowHighschoolScore</th>\n",
       "      <th>weight</th>\n",
       "    </tr>\n",
       "  </thead>\n",
       "  <tbody>\n",
       "    <tr>\n",
       "      <th>count</th>\n",
       "      <td>19341.000000</td>\n",
       "      <td>19341.000000</td>\n",
       "      <td>19341.000000</td>\n",
       "      <td>19341.000000</td>\n",
       "      <td>19341.000000</td>\n",
       "      <td>19341.000000</td>\n",
       "      <td>19341.000000</td>\n",
       "      <td>19341.000000</td>\n",
       "      <td>1.934100e+04</td>\n",
       "      <td>19341.000000</td>\n",
       "      <td>...</td>\n",
       "      <td>19341.000000</td>\n",
       "      <td>19341.000000</td>\n",
       "      <td>19341.000000</td>\n",
       "      <td>19341.000000</td>\n",
       "      <td>19341.000000</td>\n",
       "      <td>19341.000000</td>\n",
       "      <td>19341.000000</td>\n",
       "      <td>19341.000000</td>\n",
       "      <td>19341.000000</td>\n",
       "      <td>19341.000000</td>\n",
       "    </tr>\n",
       "    <tr>\n",
       "      <th>mean</th>\n",
       "      <td>28.301010</td>\n",
       "      <td>188.253038</td>\n",
       "      <td>5.800188</td>\n",
       "      <td>4.776069</td>\n",
       "      <td>6.465971</td>\n",
       "      <td>5.609379</td>\n",
       "      <td>1121.756405</td>\n",
       "      <td>0.987985</td>\n",
       "      <td>7.147371e+05</td>\n",
       "      <td>2260.320149</td>\n",
       "      <td>...</td>\n",
       "      <td>1091.844140</td>\n",
       "      <td>844.941873</td>\n",
       "      <td>10.775710</td>\n",
       "      <td>25.292278</td>\n",
       "      <td>66.979447</td>\n",
       "      <td>26.071246</td>\n",
       "      <td>2.048577</td>\n",
       "      <td>2.410019</td>\n",
       "      <td>6.911969</td>\n",
       "      <td>0.917674</td>\n",
       "    </tr>\n",
       "    <tr>\n",
       "      <th>std</th>\n",
       "      <td>29.272432</td>\n",
       "      <td>43.909579</td>\n",
       "      <td>0.403903</td>\n",
       "      <td>0.740787</td>\n",
       "      <td>1.710602</td>\n",
       "      <td>1.394254</td>\n",
       "      <td>700.091287</td>\n",
       "      <td>0.539311</td>\n",
       "      <td>4.795029e+05</td>\n",
       "      <td>916.156909</td>\n",
       "      <td>...</td>\n",
       "      <td>822.797567</td>\n",
       "      <td>628.524024</td>\n",
       "      <td>6.062161</td>\n",
       "      <td>24.528456</td>\n",
       "      <td>57.346714</td>\n",
       "      <td>13.049587</td>\n",
       "      <td>1.100480</td>\n",
       "      <td>1.131323</td>\n",
       "      <td>1.478996</td>\n",
       "      <td>0.300543</td>\n",
       "    </tr>\n",
       "    <tr>\n",
       "      <th>min</th>\n",
       "      <td>1.000000</td>\n",
       "      <td>79.000000</td>\n",
       "      <td>1.904832</td>\n",
       "      <td>1.313262</td>\n",
       "      <td>1.400000</td>\n",
       "      <td>4.000000</td>\n",
       "      <td>249.500000</td>\n",
       "      <td>0.241229</td>\n",
       "      <td>2.545726e+00</td>\n",
       "      <td>1000.000000</td>\n",
       "      <td>...</td>\n",
       "      <td>256.391322</td>\n",
       "      <td>192.317365</td>\n",
       "      <td>1.000000</td>\n",
       "      <td>2.747361</td>\n",
       "      <td>5.622068</td>\n",
       "      <td>1.000000</td>\n",
       "      <td>1.000000</td>\n",
       "      <td>0.500000</td>\n",
       "      <td>2.000000</td>\n",
       "      <td>0.655738</td>\n",
       "    </tr>\n",
       "    <tr>\n",
       "      <th>25%</th>\n",
       "      <td>8.000000</td>\n",
       "      <td>168.000000</td>\n",
       "      <td>5.651500</td>\n",
       "      <td>4.507759</td>\n",
       "      <td>5.000000</td>\n",
       "      <td>5.000000</td>\n",
       "      <td>649.500000</td>\n",
       "      <td>0.617341</td>\n",
       "      <td>4.705000e+05</td>\n",
       "      <td>1750.000000</td>\n",
       "      <td>...</td>\n",
       "      <td>628.212221</td>\n",
       "      <td>480.888742</td>\n",
       "      <td>6.000000</td>\n",
       "      <td>14.174198</td>\n",
       "      <td>38.129997</td>\n",
       "      <td>18.000000</td>\n",
       "      <td>1.000000</td>\n",
       "      <td>1.500000</td>\n",
       "      <td>5.300000</td>\n",
       "      <td>0.720721</td>\n",
       "    </tr>\n",
       "    <tr>\n",
       "      <th>50%</th>\n",
       "      <td>19.000000</td>\n",
       "      <td>201.000000</td>\n",
       "      <td>5.901863</td>\n",
       "      <td>4.953841</td>\n",
       "      <td>6.900000</td>\n",
       "      <td>5.000000</td>\n",
       "      <td>861.086223</td>\n",
       "      <td>0.807549</td>\n",
       "      <td>5.615000e+05</td>\n",
       "      <td>2000.000000</td>\n",
       "      <td>...</td>\n",
       "      <td>790.789643</td>\n",
       "      <td>612.659372</td>\n",
       "      <td>10.000000</td>\n",
       "      <td>17.897856</td>\n",
       "      <td>47.531521</td>\n",
       "      <td>23.000000</td>\n",
       "      <td>2.000000</td>\n",
       "      <td>2.000000</td>\n",
       "      <td>7.500000</td>\n",
       "      <td>0.796020</td>\n",
       "    </tr>\n",
       "    <tr>\n",
       "      <th>75%</th>\n",
       "      <td>39.000000</td>\n",
       "      <td>222.000000</td>\n",
       "      <td>6.072395</td>\n",
       "      <td>5.311817</td>\n",
       "      <td>7.800000</td>\n",
       "      <td>5.000000</td>\n",
       "      <td>1300.000000</td>\n",
       "      <td>1.000000</td>\n",
       "      <td>8.500000e+05</td>\n",
       "      <td>2500.000000</td>\n",
       "      <td>...</td>\n",
       "      <td>1110.299831</td>\n",
       "      <td>871.872275</td>\n",
       "      <td>16.000000</td>\n",
       "      <td>30.069617</td>\n",
       "      <td>88.904802</td>\n",
       "      <td>34.000000</td>\n",
       "      <td>3.000000</td>\n",
       "      <td>3.000000</td>\n",
       "      <td>7.800000</td>\n",
       "      <td>0.952381</td>\n",
       "    </tr>\n",
       "    <tr>\n",
       "      <th>max</th>\n",
       "      <td>370.000000</td>\n",
       "      <td>244.000000</td>\n",
       "      <td>6.147866</td>\n",
       "      <td>5.500108</td>\n",
       "      <td>9.100000</td>\n",
       "      <td>10.000000</td>\n",
       "      <td>5000.000000</td>\n",
       "      <td>8.000000</td>\n",
       "      <td>4.625000e+06</td>\n",
       "      <td>10000.000000</td>\n",
       "      <td>...</td>\n",
       "      <td>10000.000000</td>\n",
       "      <td>5000.000000</td>\n",
       "      <td>20.000000</td>\n",
       "      <td>1650.000000</td>\n",
       "      <td>2633.000000</td>\n",
       "      <td>167.000000</td>\n",
       "      <td>15.000000</td>\n",
       "      <td>9.000000</td>\n",
       "      <td>10.000000</td>\n",
       "      <td>2.025316</td>\n",
       "    </tr>\n",
       "  </tbody>\n",
       "</table>\n",
       "<p>8 rows × 21 columns</p>\n",
       "</div>"
      ],
      "text/plain": [
       "          list_days   days_to_now       ad_text        extras  \\\n",
       "count  19341.000000  19341.000000  19341.000000  19341.000000   \n",
       "mean      28.301010    188.253038      5.800188      4.776069   \n",
       "std       29.272432     43.909579      0.403903      0.740787   \n",
       "min        1.000000     79.000000      1.904832      1.313262   \n",
       "25%        8.000000    168.000000      5.651500      4.507759   \n",
       "50%       19.000000    201.000000      5.901863      4.953841   \n",
       "75%       39.000000    222.000000      6.072395      5.311817   \n",
       "max      370.000000    244.000000      6.147866      5.500108   \n",
       "\n",
       "       topHighschoolScore  basement_status    sqft_level    gar_spaces  \\\n",
       "count        19341.000000     19341.000000  19341.000000  19341.000000   \n",
       "mean             6.465971         5.609379   1121.756405      0.987985   \n",
       "std              1.710602         1.394254    700.091287      0.539311   \n",
       "min              1.400000         4.000000    249.500000      0.241229   \n",
       "25%              5.000000         5.000000    649.500000      0.617341   \n",
       "50%              6.900000         5.000000    861.086223      0.807549   \n",
       "75%              7.800000         5.000000   1300.000000      1.000000   \n",
       "max              9.100000        10.000000   5000.000000      8.000000   \n",
       "\n",
       "       price_sold_median        lp_dol      ...       sqft_level_high  \\\n",
       "count       1.934100e+04  19341.000000      ...          19341.000000   \n",
       "mean        7.147371e+05   2260.320149      ...           1091.844140   \n",
       "std         4.795029e+05    916.156909      ...            822.797567   \n",
       "min         2.545726e+00   1000.000000      ...            256.391322   \n",
       "25%         4.705000e+05   1750.000000      ...            628.212221   \n",
       "50%         5.615000e+05   2000.000000      ...            790.789643   \n",
       "75%         8.500000e+05   2500.000000      ...           1110.299831   \n",
       "max         4.625000e+06  10000.000000      ...          10000.000000   \n",
       "\n",
       "       sqft_level_low     photo_num  front_adjustedInFt  depth_adjustedInFt  \\\n",
       "count    19341.000000  19341.000000        19341.000000        19341.000000   \n",
       "mean       844.941873     10.775710           25.292278           66.979447   \n",
       "std        628.524024      6.062161           24.528456           57.346714   \n",
       "min        192.317365      1.000000            2.747361            5.622068   \n",
       "25%        480.888742      6.000000           14.174198           38.129997   \n",
       "50%        612.659372     10.000000           17.897856           47.531521   \n",
       "75%        871.872275     16.000000           30.069617           88.904802   \n",
       "max       5000.000000     20.000000         1650.000000         2633.000000   \n",
       "\n",
       "            dom_avg      bath_num      br_final  topBelowHighschoolScore  \\\n",
       "count  19341.000000  19341.000000  19341.000000             19341.000000   \n",
       "mean      26.071246      2.048577      2.410019                 6.911969   \n",
       "std       13.049587      1.100480      1.131323                 1.478996   \n",
       "min        1.000000      1.000000      0.500000                 2.000000   \n",
       "25%       18.000000      1.000000      1.500000                 5.300000   \n",
       "50%       23.000000      2.000000      2.000000                 7.500000   \n",
       "75%       34.000000      3.000000      3.000000                 7.800000   \n",
       "max      167.000000     15.000000      9.000000                10.000000   \n",
       "\n",
       "             weight  \n",
       "count  19341.000000  \n",
       "mean       0.917674  \n",
       "std        0.300543  \n",
       "min        0.655738  \n",
       "25%        0.720721  \n",
       "50%        0.796020  \n",
       "75%        0.952381  \n",
       "max        2.025316  \n",
       "\n",
       "[8 rows x 21 columns]"
      ]
     },
     "execution_count": 244,
     "metadata": {},
     "output_type": "execute_result"
    }
   ],
   "source": [
    "nfilledfts = pd.DataFrame(X_filled, columns=nfeats.columns)\n",
    "nfilledfts.to_csv(\"datasets/filled_nfeatures.csv\", sep=\"\\t\")\n",
    "nfilledfts['weight'] = get_weight(nfilledfts['days_to_now'])\n",
    "nfilledfts.describe()"
   ]
  },
  {
   "cell_type": "code",
   "execution_count": 245,
   "metadata": {
    "collapsed": true
   },
   "outputs": [],
   "source": [
    "nfilledfts['bath_avg'] = (nfilledfts['bath_num']) / (nfilledfts['br_final'])\n",
    "#nfilledfts['lp_dol'] = y\n",
    "nfilledfts['latitude'] = lat\n",
    "nfilledfts['longitude'] = long"
   ]
  },
  {
   "cell_type": "code",
   "execution_count": 246,
   "metadata": {},
   "outputs": [
    {
     "data": {
      "text/html": [
       "<div>\n",
       "<style>\n",
       "    .dataframe thead tr:only-child th {\n",
       "        text-align: right;\n",
       "    }\n",
       "\n",
       "    .dataframe thead th {\n",
       "        text-align: left;\n",
       "    }\n",
       "\n",
       "    .dataframe tbody tr th {\n",
       "        vertical-align: top;\n",
       "    }\n",
       "</style>\n",
       "<table border=\"1\" class=\"dataframe\">\n",
       "  <thead>\n",
       "    <tr style=\"text-align: right;\">\n",
       "      <th></th>\n",
       "      <th>style</th>\n",
       "      <th>type_own1_out</th>\n",
       "      <th>municipality_code</th>\n",
       "      <th>community_plus_code</th>\n",
       "      <th>municipality</th>\n",
       "      <th>gar_type</th>\n",
       "    </tr>\n",
       "  </thead>\n",
       "  <tbody>\n",
       "    <tr>\n",
       "      <th>0</th>\n",
       "      <td>3Storey</td>\n",
       "      <td>AttRowTwnhouse</td>\n",
       "      <td>01W01</td>\n",
       "      <td>01W010480</td>\n",
       "      <td>Toronto</td>\n",
       "      <td>None</td>\n",
       "    </tr>\n",
       "    <tr>\n",
       "      <th>1</th>\n",
       "      <td>2Storey</td>\n",
       "      <td>AttRowTwnhouse</td>\n",
       "      <td>2606</td>\n",
       "      <td>2606</td>\n",
       "      <td>Gravenhurst</td>\n",
       "      <td>BuiltIn</td>\n",
       "    </tr>\n",
       "    <tr>\n",
       "      <th>2</th>\n",
       "      <td>2Storey</td>\n",
       "      <td>Detached</td>\n",
       "      <td>0502</td>\n",
       "      <td>05020050</td>\n",
       "      <td>Brampton</td>\n",
       "      <td>Attached</td>\n",
       "    </tr>\n",
       "    <tr>\n",
       "      <th>3</th>\n",
       "      <td>2Storey</td>\n",
       "      <td>Detached</td>\n",
       "      <td>4609</td>\n",
       "      <td>4609</td>\n",
       "      <td>NiagaraFalls</td>\n",
       "      <td>BuiltIn</td>\n",
       "    </tr>\n",
       "    <tr>\n",
       "      <th>4</th>\n",
       "      <td>2Storey</td>\n",
       "      <td>Detached</td>\n",
       "      <td>0412</td>\n",
       "      <td>04120010</td>\n",
       "      <td>NewTecumseth</td>\n",
       "      <td>Attached</td>\n",
       "    </tr>\n",
       "  </tbody>\n",
       "</table>\n",
       "</div>"
      ],
      "text/plain": [
       "     style   type_own1_out municipality_code community_plus_code  \\\n",
       "0  3Storey  AttRowTwnhouse             01W01           01W010480   \n",
       "1  2Storey  AttRowTwnhouse              2606                2606   \n",
       "2  2Storey        Detached              0502            05020050   \n",
       "3  2Storey        Detached              4609                4609   \n",
       "4  2Storey        Detached              0412            04120010   \n",
       "\n",
       "   municipality  gar_type  \n",
       "0       Toronto      None  \n",
       "1   Gravenhurst   BuiltIn  \n",
       "2      Brampton  Attached  \n",
       "3  NiagaraFalls   BuiltIn  \n",
       "4  NewTecumseth  Attached  "
      ]
     },
     "execution_count": 246,
     "metadata": {},
     "output_type": "execute_result"
    }
   ],
   "source": [
    "cfs = cfs.fillna(\"missing\")\n",
    "cfs.head()"
   ]
  },
  {
   "cell_type": "code",
   "execution_count": 247,
   "metadata": {},
   "outputs": [
    {
     "data": {
      "text/plain": [
       "lp_dol                     1.000000\n",
       "sqft_level                 0.545497\n",
       "sqft_level_high            0.540643\n",
       "estimateSquarefootage      0.523183\n",
       "sqft_level_low             0.520908\n",
       "bath_num                   0.482741\n",
       "br_final                   0.412608\n",
       "price_sold_median          0.410646\n",
       "gar_spaces                 0.386479\n",
       "dom_avg                    0.312724\n",
       "depth_adjustedInFt         0.268493\n",
       "front_adjustedInFt         0.258498\n",
       "photo_num                  0.240743\n",
       "basement_status            0.215008\n",
       "topBelowHighschoolScore    0.179747\n",
       "list_days                  0.170205\n",
       "ad_text                    0.150048\n",
       "bath_avg                   0.145701\n",
       "extras                     0.122448\n",
       "topHighschoolScore         0.058916\n",
       "weight                     0.052410\n",
       "latitude                  -0.010053\n",
       "longitude                 -0.012008\n",
       "days_to_now               -0.058677\n",
       "Name: lp_dol, dtype: float64"
      ]
     },
     "execution_count": 247,
     "metadata": {},
     "output_type": "execute_result"
    }
   ],
   "source": [
    "corr_matrix = nfilledfts.corr()\n",
    "corr_matrix[\"lp_dol\"].sort_values(ascending=False)"
   ]
  },
  {
   "cell_type": "code",
   "execution_count": 248,
   "metadata": {},
   "outputs": [
    {
     "data": {
      "text/plain": [
       "(19341, 30)"
      ]
     },
     "execution_count": 248,
     "metadata": {},
     "output_type": "execute_result"
    }
   ],
   "source": [
    "data = pd.concat([nfilledfts, cfs], axis=1, join_axes=[nfilledfts.index])\n",
    "data.head()\n",
    "data.shape"
   ]
  },
  {
   "cell_type": "code",
   "execution_count": 249,
   "metadata": {},
   "outputs": [
    {
     "data": {
      "image/png": "[encoded data removed]",
      "text/plain": [
       "<matplotlib.figure.Figure at 0x1186f6198>"
      ]
     },
     "metadata": {},
     "output_type": "display_data"
    }
   ],
   "source": [
    "import matplotlib.pyplot as plt\n",
    "data.hist(bins=20, figsize=(20,15))\n",
    "plt.show()"
   ]
  },
  {
   "cell_type": "code",
   "execution_count": 250,
   "metadata": {},
   "outputs": [
    {
     "data": {
      "image/png": "[encoded data removed]",
      "text/plain": [
       "<matplotlib.figure.Figure at 0x1c3b9fb7f0>"
      ]
     },
     "metadata": {},
     "output_type": "display_data"
    }
   ],
   "source": [
    "data['depth_adjustedInFt'].hist(bins=100, figsize=(6,4))\n",
    "data['front_adjustedInFt'].hist(bins=100, figsize=(6,4))\n",
    "plt.show()"
   ]
  },
  {
   "cell_type": "code",
   "execution_count": 251,
   "metadata": {
    "collapsed": true
   },
   "outputs": [],
   "source": [
    "data[\"depth_adjustedInFt\"].where(data[\"depth_adjustedInFt\"] < 5000, 5000, inplace=True)\n",
    "data[\"front_adjustedInFt\"].where(data[\"front_adjustedInFt\"] < 5000, 5000, inplace=True)"
   ]
  },
  {
   "cell_type": "code",
   "execution_count": 252,
   "metadata": {},
   "outputs": [
    {
     "data": {
      "text/plain": [
       "(15472, 30)"
      ]
     },
     "execution_count": 252,
     "metadata": {},
     "output_type": "execute_result"
    }
   ],
   "source": [
    "from sklearn.model_selection import train_test_split\n",
    "\n",
    "train_set, test_set = train_test_split(data, test_size=0.2, random_state=42)\n",
    "\n",
    "train_set = train_set[~train_set['lp_dol'].isnull()]\n",
    "\n",
    "train_set.shape\n"
   ]
  },
  {
   "cell_type": "code",
   "execution_count": 253,
   "metadata": {
    "collapsed": true
   },
   "outputs": [],
   "source": [
    "X_train = train_set.drop(['lp_dol', 'weight', 'days_to_now'], axis=1) \n",
    "weight = train_set['weight'].copy()                       \n",
    "y = train_set['lp_dol'].copy()"
   ]
  },
  {
   "cell_type": "code",
   "execution_count": 254,
   "metadata": {},
   "outputs": [
    {
     "data": {
      "text/html": [
       "<div>\n",
       "<style>\n",
       "    .dataframe thead tr:only-child th {\n",
       "        text-align: right;\n",
       "    }\n",
       "\n",
       "    .dataframe thead th {\n",
       "        text-align: left;\n",
       "    }\n",
       "\n",
       "    .dataframe tbody tr th {\n",
       "        vertical-align: top;\n",
       "    }\n",
       "</style>\n",
       "<table border=\"1\" class=\"dataframe\">\n",
       "  <thead>\n",
       "    <tr style=\"text-align: right;\">\n",
       "      <th></th>\n",
       "      <th>list_days</th>\n",
       "      <th>ad_text</th>\n",
       "      <th>extras</th>\n",
       "      <th>topHighschoolScore</th>\n",
       "      <th>basement_status</th>\n",
       "      <th>sqft_level</th>\n",
       "      <th>gar_spaces</th>\n",
       "      <th>price_sold_median</th>\n",
       "      <th>estimateSquarefootage</th>\n",
       "      <th>sqft_level_high</th>\n",
       "      <th>...</th>\n",
       "      <th>photo_num</th>\n",
       "      <th>front_adjustedInFt</th>\n",
       "      <th>depth_adjustedInFt</th>\n",
       "      <th>dom_avg</th>\n",
       "      <th>bath_num</th>\n",
       "      <th>br_final</th>\n",
       "      <th>topBelowHighschoolScore</th>\n",
       "      <th>bath_avg</th>\n",
       "      <th>latitude</th>\n",
       "      <th>longitude</th>\n",
       "    </tr>\n",
       "  </thead>\n",
       "  <tbody>\n",
       "    <tr>\n",
       "      <th>count</th>\n",
       "      <td>15472.000000</td>\n",
       "      <td>15472.000000</td>\n",
       "      <td>15472.000000</td>\n",
       "      <td>15472.000000</td>\n",
       "      <td>15472.000000</td>\n",
       "      <td>15472.000000</td>\n",
       "      <td>15472.000000</td>\n",
       "      <td>1.547200e+04</td>\n",
       "      <td>15472.000000</td>\n",
       "      <td>15472.000000</td>\n",
       "      <td>...</td>\n",
       "      <td>15472.000000</td>\n",
       "      <td>15472.000000</td>\n",
       "      <td>15472.000000</td>\n",
       "      <td>15472.000000</td>\n",
       "      <td>15472.000000</td>\n",
       "      <td>15472.000000</td>\n",
       "      <td>15472.000000</td>\n",
       "      <td>15472.000000</td>\n",
       "      <td>15118.000000</td>\n",
       "      <td>15118.000000</td>\n",
       "    </tr>\n",
       "    <tr>\n",
       "      <th>mean</th>\n",
       "      <td>28.319782</td>\n",
       "      <td>5.801923</td>\n",
       "      <td>4.774791</td>\n",
       "      <td>6.474887</td>\n",
       "      <td>5.613495</td>\n",
       "      <td>1124.879553</td>\n",
       "      <td>0.990147</td>\n",
       "      <td>7.178066e+05</td>\n",
       "      <td>1230.376730</td>\n",
       "      <td>1094.969993</td>\n",
       "      <td>...</td>\n",
       "      <td>10.777598</td>\n",
       "      <td>25.386941</td>\n",
       "      <td>66.968286</td>\n",
       "      <td>26.099072</td>\n",
       "      <td>2.050976</td>\n",
       "      <td>2.410054</td>\n",
       "      <td>6.919067</td>\n",
       "      <td>0.873490</td>\n",
       "      <td>43.722612</td>\n",
       "      <td>-79.451636</td>\n",
       "    </tr>\n",
       "    <tr>\n",
       "      <th>std</th>\n",
       "      <td>29.260803</td>\n",
       "      <td>0.400711</td>\n",
       "      <td>0.743789</td>\n",
       "      <td>1.707810</td>\n",
       "      <td>1.396337</td>\n",
       "      <td>703.948667</td>\n",
       "      <td>0.542937</td>\n",
       "      <td>4.815094e+05</td>\n",
       "      <td>771.075448</td>\n",
       "      <td>822.752126</td>\n",
       "      <td>...</td>\n",
       "      <td>6.074025</td>\n",
       "      <td>25.464118</td>\n",
       "      <td>56.680681</td>\n",
       "      <td>13.035518</td>\n",
       "      <td>1.103139</td>\n",
       "      <td>1.133293</td>\n",
       "      <td>1.475859</td>\n",
       "      <td>0.260981</td>\n",
       "      <td>0.170939</td>\n",
       "      <td>0.224390</td>\n",
       "    </tr>\n",
       "    <tr>\n",
       "      <th>min</th>\n",
       "      <td>1.000000</td>\n",
       "      <td>1.904832</td>\n",
       "      <td>1.313262</td>\n",
       "      <td>1.400000</td>\n",
       "      <td>4.000000</td>\n",
       "      <td>249.500000</td>\n",
       "      <td>0.241229</td>\n",
       "      <td>2.545726e+00</td>\n",
       "      <td>249.500000</td>\n",
       "      <td>256.391322</td>\n",
       "      <td>...</td>\n",
       "      <td>1.000000</td>\n",
       "      <td>2.747361</td>\n",
       "      <td>5.622068</td>\n",
       "      <td>1.000000</td>\n",
       "      <td>1.000000</td>\n",
       "      <td>0.500000</td>\n",
       "      <td>2.000000</td>\n",
       "      <td>0.200000</td>\n",
       "      <td>39.773895</td>\n",
       "      <td>-81.317468</td>\n",
       "    </tr>\n",
       "    <tr>\n",
       "      <th>25%</th>\n",
       "      <td>8.000000</td>\n",
       "      <td>5.651500</td>\n",
       "      <td>4.507759</td>\n",
       "      <td>5.000000</td>\n",
       "      <td>5.000000</td>\n",
       "      <td>649.500000</td>\n",
       "      <td>0.616641</td>\n",
       "      <td>4.705000e+05</td>\n",
       "      <td>649.500000</td>\n",
       "      <td>628.332028</td>\n",
       "      <td>...</td>\n",
       "      <td>6.000000</td>\n",
       "      <td>14.167458</td>\n",
       "      <td>38.063143</td>\n",
       "      <td>18.000000</td>\n",
       "      <td>1.000000</td>\n",
       "      <td>1.500000</td>\n",
       "      <td>5.300000</td>\n",
       "      <td>0.666667</td>\n",
       "      <td>43.641791</td>\n",
       "      <td>-79.522012</td>\n",
       "    </tr>\n",
       "    <tr>\n",
       "      <th>50%</th>\n",
       "      <td>19.000000</td>\n",
       "      <td>5.901863</td>\n",
       "      <td>4.946760</td>\n",
       "      <td>6.900000</td>\n",
       "      <td>5.000000</td>\n",
       "      <td>860.363743</td>\n",
       "      <td>0.808068</td>\n",
       "      <td>5.627500e+05</td>\n",
       "      <td>949.500000</td>\n",
       "      <td>791.097910</td>\n",
       "      <td>...</td>\n",
       "      <td>10.000000</td>\n",
       "      <td>17.900660</td>\n",
       "      <td>47.561473</td>\n",
       "      <td>23.000000</td>\n",
       "      <td>2.000000</td>\n",
       "      <td>2.000000</td>\n",
       "      <td>7.500000</td>\n",
       "      <td>1.000000</td>\n",
       "      <td>43.685586</td>\n",
       "      <td>-79.409829</td>\n",
       "    </tr>\n",
       "    <tr>\n",
       "      <th>75%</th>\n",
       "      <td>39.000000</td>\n",
       "      <td>6.072395</td>\n",
       "      <td>5.311817</td>\n",
       "      <td>7.800000</td>\n",
       "      <td>5.000000</td>\n",
       "      <td>1300.000000</td>\n",
       "      <td>1.000000</td>\n",
       "      <td>8.555820e+05</td>\n",
       "      <td>1699.500000</td>\n",
       "      <td>1114.866203</td>\n",
       "      <td>...</td>\n",
       "      <td>16.000000</td>\n",
       "      <td>30.078877</td>\n",
       "      <td>88.580000</td>\n",
       "      <td>34.000000</td>\n",
       "      <td>3.000000</td>\n",
       "      <td>3.000000</td>\n",
       "      <td>7.800000</td>\n",
       "      <td>1.000000</td>\n",
       "      <td>43.795136</td>\n",
       "      <td>-79.380732</td>\n",
       "    </tr>\n",
       "    <tr>\n",
       "      <th>max</th>\n",
       "      <td>370.000000</td>\n",
       "      <td>6.147866</td>\n",
       "      <td>5.500108</td>\n",
       "      <td>9.100000</td>\n",
       "      <td>10.000000</td>\n",
       "      <td>5000.000000</td>\n",
       "      <td>8.000000</td>\n",
       "      <td>4.625000e+06</td>\n",
       "      <td>5272.059930</td>\n",
       "      <td>10000.000000</td>\n",
       "      <td>...</td>\n",
       "      <td>20.000000</td>\n",
       "      <td>1650.000000</td>\n",
       "      <td>2608.000000</td>\n",
       "      <td>167.000000</td>\n",
       "      <td>15.000000</td>\n",
       "      <td>9.000000</td>\n",
       "      <td>10.000000</td>\n",
       "      <td>4.000000</td>\n",
       "      <td>45.420707</td>\n",
       "      <td>-75.672409</td>\n",
       "    </tr>\n",
       "  </tbody>\n",
       "</table>\n",
       "<p>8 rows × 21 columns</p>\n",
       "</div>"
      ],
      "text/plain": [
       "          list_days       ad_text        extras  topHighschoolScore  \\\n",
       "count  15472.000000  15472.000000  15472.000000        15472.000000   \n",
       "mean      28.319782      5.801923      4.774791            6.474887   \n",
       "std       29.260803      0.400711      0.743789            1.707810   \n",
       "min        1.000000      1.904832      1.313262            1.400000   \n",
       "25%        8.000000      5.651500      4.507759            5.000000   \n",
       "50%       19.000000      5.901863      4.946760            6.900000   \n",
       "75%       39.000000      6.072395      5.311817            7.800000   \n",
       "max      370.000000      6.147866      5.500108            9.100000   \n",
       "\n",
       "       basement_status    sqft_level    gar_spaces  price_sold_median  \\\n",
       "count     15472.000000  15472.000000  15472.000000       1.547200e+04   \n",
       "mean          5.613495   1124.879553      0.990147       7.178066e+05   \n",
       "std           1.396337    703.948667      0.542937       4.815094e+05   \n",
       "min           4.000000    249.500000      0.241229       2.545726e+00   \n",
       "25%           5.000000    649.500000      0.616641       4.705000e+05   \n",
       "50%           5.000000    860.363743      0.808068       5.627500e+05   \n",
       "75%           5.000000   1300.000000      1.000000       8.555820e+05   \n",
       "max          10.000000   5000.000000      8.000000       4.625000e+06   \n",
       "\n",
       "       estimateSquarefootage  sqft_level_high      ...          photo_num  \\\n",
       "count           15472.000000     15472.000000      ...       15472.000000   \n",
       "mean             1230.376730      1094.969993      ...          10.777598   \n",
       "std               771.075448       822.752126      ...           6.074025   \n",
       "min               249.500000       256.391322      ...           1.000000   \n",
       "25%               649.500000       628.332028      ...           6.000000   \n",
       "50%               949.500000       791.097910      ...          10.000000   \n",
       "75%              1699.500000      1114.866203      ...          16.000000   \n",
       "max              5272.059930     10000.000000      ...          20.000000   \n",
       "\n",
       "       front_adjustedInFt  depth_adjustedInFt       dom_avg      bath_num  \\\n",
       "count        15472.000000        15472.000000  15472.000000  15472.000000   \n",
       "mean            25.386941           66.968286     26.099072      2.050976   \n",
       "std             25.464118           56.680681     13.035518      1.103139   \n",
       "min              2.747361            5.622068      1.000000      1.000000   \n",
       "25%             14.167458           38.063143     18.000000      1.000000   \n",
       "50%             17.900660           47.561473     23.000000      2.000000   \n",
       "75%             30.078877           88.580000     34.000000      3.000000   \n",
       "max           1650.000000         2608.000000    167.000000     15.000000   \n",
       "\n",
       "           br_final  topBelowHighschoolScore      bath_avg      latitude  \\\n",
       "count  15472.000000             15472.000000  15472.000000  15118.000000   \n",
       "mean       2.410054                 6.919067      0.873490     43.722612   \n",
       "std        1.133293                 1.475859      0.260981      0.170939   \n",
       "min        0.500000                 2.000000      0.200000     39.773895   \n",
       "25%        1.500000                 5.300000      0.666667     43.641791   \n",
       "50%        2.000000                 7.500000      1.000000     43.685586   \n",
       "75%        3.000000                 7.800000      1.000000     43.795136   \n",
       "max        9.000000                10.000000      4.000000     45.420707   \n",
       "\n",
       "          longitude  \n",
       "count  15118.000000  \n",
       "mean     -79.451636  \n",
       "std        0.224390  \n",
       "min      -81.317468  \n",
       "25%      -79.522012  \n",
       "50%      -79.409829  \n",
       "75%      -79.380732  \n",
       "max      -75.672409  \n",
       "\n",
       "[8 rows x 21 columns]"
      ]
     },
     "execution_count": 254,
     "metadata": {},
     "output_type": "execute_result"
    }
   ],
   "source": [
    "X_train.describe()"
   ]
  },
  {
   "cell_type": "code",
   "execution_count": 255,
   "metadata": {
    "collapsed": true
   },
   "outputs": [],
   "source": [
    "X_test = test_set.drop(['lp_dol', 'weight', 'days_to_now'], axis=1) \n",
    "weight_test = test_set['weight'].copy()                       \n",
    "y_test = test_set['lp_dol'].copy()"
   ]
  },
  {
   "cell_type": "code",
   "execution_count": 256,
   "metadata": {},
   "outputs": [
    {
     "name": "stdout",
     "output_type": "stream",
     "text": [
      "Index(['style', 'type_own1_out', 'municipality_code', 'community_plus_code',\n",
      "       'municipality', 'gar_type'],\n",
      "      dtype='object')\n"
     ]
    }
   ],
   "source": [
    "num_attribs = nfilledfts.drop(['lp_dol', 'weight', 'days_to_now'], axis=1).columns\n",
    "cat_attribs = cfs.columns\n",
    "\n",
    "print(cat_attribs)\n"
   ]
  },
  {
   "cell_type": "code",
   "execution_count": 257,
   "metadata": {},
   "outputs": [
    {
     "name": "stdout",
     "output_type": "stream",
     "text": [
      "21\n"
     ]
    }
   ],
   "source": [
    "print(len(num_attribs))"
   ]
  },
  {
   "cell_type": "code",
   "execution_count": 258,
   "metadata": {
    "collapsed": true
   },
   "outputs": [],
   "source": [
    "from sklearn.pipeline import Pipeline\n",
    "from sklearn.preprocessing import StandardScaler, MinMaxScaler\n",
    "from sklearn.base import BaseEstimator, TransformerMixin\n",
    "from sklearn.preprocessing import Imputer\n",
    "from sklearn.preprocessing import LabelBinarizer\n",
    "\n",
    "# Create a class to select numerical or categorical columns \n",
    "# since Scikit-Learn doesn't handle DataFrames yet\n",
    "class DataFrameSelector(BaseEstimator, TransformerMixin):\n",
    "    def __init__(self, attribute_names):\n",
    "        self.attribute_names = attribute_names\n",
    "    def fit(self, X, y=None):\n",
    "        return self\n",
    "    def transform(self, X):\n",
    "        return X[self.attribute_names].values\n"
   ]
  },
  {
   "cell_type": "code",
   "execution_count": 259,
   "metadata": {
    "collapsed": true
   },
   "outputs": [],
   "source": [
    "num_pipeline = Pipeline([\n",
    "        ('selector', DataFrameSelector(num_attribs)),\n",
    "        ('imputer', Imputer(strategy=\"median\")),\n",
    "        ('std_scaler', StandardScaler()),\n",
    "        #('maxmin_scaler', MinMaxScaler()),\n",
    "    ])\n",
    "\n",
    "cat_pipeline = Pipeline([\n",
    "        ('selector', DataFrameSelector(cat_attribs)),\n",
    "        ('imputer', Imputer(strategy=\"most_frequent\")),\n",
    "        ('label_binarizer', LabelBinarizer()),\n",
    "    ])"
   ]
  },
  {
   "cell_type": "code",
   "execution_count": 260,
   "metadata": {
    "collapsed": true
   },
   "outputs": [],
   "source": [
    "from sklearn.pipeline import FeatureUnion\n",
    "\n",
    "full_pipeline = FeatureUnion(transformer_list=[\n",
    "        (\"num_pipeline\", num_pipeline),\n",
    "        #(\"cat_pipeline\", cat_pipeline),\n",
    "    ])"
   ]
  },
  {
   "cell_type": "code",
   "execution_count": 261,
   "metadata": {},
   "outputs": [
    {
     "data": {
      "text/plain": [
       "(15472, 27)"
      ]
     },
     "execution_count": 261,
     "metadata": {},
     "output_type": "execute_result"
    }
   ],
   "source": [
    "X_train.shape"
   ]
  },
  {
   "cell_type": "code",
   "execution_count": 262,
   "metadata": {},
   "outputs": [
    {
     "data": {
      "text/plain": [
       "(15472, 21)"
      ]
     },
     "execution_count": 262,
     "metadata": {},
     "output_type": "execute_result"
    }
   ],
   "source": [
    "X_train_n = full_pipeline.fit_transform(X_train)\n",
    "X_train_n.shape"
   ]
  },
  {
   "cell_type": "code",
   "execution_count": 263,
   "metadata": {},
   "outputs": [
    {
     "data": {
      "text/plain": [
       "(3869, 21)"
      ]
     },
     "execution_count": 263,
     "metadata": {},
     "output_type": "execute_result"
    }
   ],
   "source": [
    "## for test data\n",
    "X_test_n = full_pipeline.fit_transform(X_test)\n",
    "X_test_n.shape"
   ]
  },
  {
   "cell_type": "code",
   "execution_count": 264,
   "metadata": {},
   "outputs": [],
   "source": [
    "lb1 = LabelBinarizer()\n",
    "sty = train_set['style'].copy()\n",
    "style = lb1.fit_transform(sty)\n",
    "\n",
    "style_test = lb1.transform(test_set['style'].copy())"
   ]
  },
  {
   "cell_type": "code",
   "execution_count": 265,
   "metadata": {
    "collapsed": true
   },
   "outputs": [],
   "source": [
    "\n",
    "lb2 = LabelBinarizer()\n",
    "too = train_set['type_own1_out'].copy()\n",
    "type_own1_out = lb2.fit_transform(too)\n",
    "\n",
    "type_own1_out_test = lb2.transform(test_set['type_own1_out'].copy())"
   ]
  },
  {
   "cell_type": "code",
   "execution_count": 266,
   "metadata": {
    "collapsed": true
   },
   "outputs": [],
   "source": [
    "lb3 = LabelBinarizer()\n",
    "mp = train_set['municipality'].copy()\n",
    "municipality = lb3.fit_transform(mp)\n",
    "\n",
    "municipality_test = lb3.transform(test_set['municipality'].copy())"
   ]
  },
  {
   "cell_type": "code",
   "execution_count": 267,
   "metadata": {
    "collapsed": true
   },
   "outputs": [],
   "source": [
    "lb4 = LabelBinarizer()\n",
    "gt = train_set['gar_type'].copy()\n",
    "gar_type = lb4.fit_transform(gt)\n",
    "\n",
    "gar_type_test = lb4.transform(test_set['gar_type'].copy())"
   ]
  },
  {
   "cell_type": "code",
   "execution_count": 268,
   "metadata": {
    "collapsed": true
   },
   "outputs": [],
   "source": [
    "lb5 = LabelBinarizer()\n",
    "cpc = train_set['community_plus_code'].copy()\n",
    "community_plus_code = lb5.fit_transform(cpc)\n",
    "\n",
    "community_plus_code_test = lb5.transform(test_set['community_plus_code'].copy())"
   ]
  },
  {
   "cell_type": "code",
   "execution_count": 269,
   "metadata": {
    "collapsed": true
   },
   "outputs": [],
   "source": [
    "X_train_pro = np.c_[X_train_n, style, type_own1_out, municipality, gar_type, community_plus_code]\n",
    "#X_train_pro = np.c_[X_train_n, style, type_own1_out, municipality, gar_type]\n",
    "#X_train_pro = X_train_n\n",
    "\n",
    "X_test_pro = np.c_[X_test_n, style_test, type_own1_out_test, municipality_test, gar_type_test, community_plus_code_test]"
   ]
  },
  {
   "cell_type": "code",
   "execution_count": 270,
   "metadata": {},
   "outputs": [
    {
     "data": {
      "text/plain": [
       "(15472, 722)"
      ]
     },
     "execution_count": 270,
     "metadata": {},
     "output_type": "execute_result"
    }
   ],
   "source": [
    "X_train_pro.shape"
   ]
  },
  {
   "cell_type": "code",
   "execution_count": 271,
   "metadata": {},
   "outputs": [
    {
     "data": {
      "text/plain": [
       "(12377, 724)"
      ]
     },
     "execution_count": 271,
     "metadata": {},
     "output_type": "execute_result"
    }
   ],
   "source": [
    "X_train_pro_full = np.c_[X_train_pro, y, weight]\n",
    "X_train_pro_t, val_set = train_test_split(X_train_pro_full, test_size=0.2, random_state=42)\n",
    "X_train_pro_t.shape\n",
    "\n",
    "\n"
   ]
  },
  {
   "cell_type": "code",
   "execution_count": 272,
   "metadata": {
    "collapsed": true
   },
   "outputs": [],
   "source": [
    "#X_test_pro_full = np.c_[X_test_pro, y_test, weight_test]"
   ]
  },
  {
   "cell_type": "code",
   "execution_count": 273,
   "metadata": {
    "collapsed": true
   },
   "outputs": [],
   "source": [
    "X_train_pro_train = X_train_pro_t[:, :722]\n",
    "y_train = X_train_pro_t[:, 722]\n",
    "w_train = X_train_pro_t[:, 723]\n",
    "\n",
    "X_val = val_set[:, :722]\n",
    "y_val = val_set[:, 722]\n",
    "w_val = val_set[:, 723]"
   ]
  },
  {
   "cell_type": "code",
   "execution_count": 274,
   "metadata": {},
   "outputs": [
    {
     "data": {
      "text/plain": [
       "2300.0"
      ]
     },
     "execution_count": 274,
     "metadata": {},
     "output_type": "execute_result"
    }
   ],
   "source": [
    "y_train[0]"
   ]
  },
  {
   "cell_type": "code",
   "execution_count": 275,
   "metadata": {},
   "outputs": [
    {
     "data": {
      "text/plain": [
       "1710.0"
      ]
     },
     "execution_count": 275,
     "metadata": {},
     "output_type": "execute_result"
    }
   ],
   "source": [
    "y_val[0]"
   ]
  },
  {
   "cell_type": "code",
   "execution_count": 284,
   "metadata": {},
   "outputs": [
    {
     "name": "stdout",
     "output_type": "stream",
     "text": [
      "324.335337919\n"
     ]
    }
   ],
   "source": [
    "from sklearn.ensemble import GradientBoostingRegressor\n",
    "from sklearn.metrics import mean_squared_error\n",
    "\n",
    "gbrt = GradientBoostingRegressor(max_depth=2, n_estimators=120, learning_rate=0.3)\n",
    "    \n",
    "min_val_error = float(\"inf\")\n",
    "error_going_up = 0\n",
    "for n_estimators in range(1, 120):\n",
    "    gbrt.n_estimators = n_estimators\n",
    "    gbrt.fit(X_train_pro_train, y_train)\n",
    "    y_pred = gbrt.predict(X_val)\n",
    "    val_error = mean_squared_error(y_val, y_pred)\n",
    "    if val_error < min_val_error:\n",
    "        min_val_error = val_error\n",
    "        error_going_up = 0\n",
    "    else:\n",
    "        error_going_up += 1\n",
    "        if error_going_up == 5:\n",
    "            break # early stopping\n",
    "\n",
    "\n",
    "predictions = gbrt.predict(X_train_pro_train)\n",
    "lin_mse = mean_squared_error(y_train,predictions)\n",
    "lin_rmse = np.sqrt(lin_mse)\n",
    "print(lin_rmse)"
   ]
  },
  {
   "cell_type": "code",
   "execution_count": 285,
   "metadata": {},
   "outputs": [
    {
     "name": "stdout",
     "output_type": "stream",
     "text": [
      "608.258467984\n"
     ]
    }
   ],
   "source": [
    "#print(gbrt.estimators_.shape)\n",
    "\n",
    "p_test = gbrt.predict(X_test_pro)\n",
    "print(np.sqrt(mean_squared_error(y_test, p_test)))"
   ]
  },
  {
   "cell_type": "code",
   "execution_count": 286,
   "metadata": {},
   "outputs": [
    {
     "name": "stdout",
     "output_type": "stream",
     "text": [
      "0.875707057307\n"
     ]
    }
   ],
   "source": [
    "print(gbrt.score(X_train_pro_train, y_train))"
   ]
  },
  {
   "cell_type": "code",
   "execution_count": 287,
   "metadata": {},
   "outputs": [
    {
     "name": "stdout",
     "output_type": "stream",
     "text": [
      "0.572344602515\n"
     ]
    }
   ],
   "source": [
    "print(gbrt.score(X_test_pro, y_test))"
   ]
  },
  {
   "cell_type": "code",
   "execution_count": 288,
   "metadata": {},
   "outputs": [
    {
     "data": {
      "image/png": "[encoded data removed]",
      "text/plain": [
       "<matplotlib.figure.Figure at 0x1c3bc6aa90>"
      ]
     },
     "metadata": {},
     "output_type": "display_data"
    }
   ],
   "source": [
    "import matplotlib.pyplot as plt\n",
    "plt.figure(1, figsize=(15, 10))\n",
    "plt.scatter(y_test, y_test - p_test)\n",
    "plt.show()"
   ]
  },
  {
   "cell_type": "code",
   "execution_count": 277,
   "metadata": {},
   "outputs": [
    {
     "name": "stdout",
     "output_type": "stream",
     "text": [
      "664.462393574\n"
     ]
    }
   ],
   "source": [
    "from sklearn import linear_model\n",
    "\n",
    "X_train_ = X_train_pro_full[:, :722]\n",
    "y_train_ = X_train_pro_full[:, 722]\n",
    "w_train_ = X_train_pro_full[:, 723]\n",
    "\n",
    "clf = linear_model.SGDRegressor(max_iter=200, penalty='elasticnet')\n",
    "clf.fit(X_train_, y_train_)\n",
    "\n",
    "predictions = clf.predict(X_train_)\n",
    "lin_mse = mean_squared_error(y_train_,predictions)\n",
    "lin_rmse = np.sqrt(lin_mse)\n",
    "print(lin_rmse)"
   ]
  },
  {
   "cell_type": "code",
   "execution_count": 278,
   "metadata": {},
   "outputs": [
    {
     "name": "stdout",
     "output_type": "stream",
     "text": [
      "660.006979417\n"
     ]
    }
   ],
   "source": [
    "p_test = clf.predict(X_test_pro)\n",
    "print(np.sqrt(mean_squared_error(y_test, p_test)))"
   ]
  },
  {
   "cell_type": "code",
   "execution_count": 282,
   "metadata": {},
   "outputs": [
    {
     "data": {
      "image/png": "[encoded data removed]",
      "text/plain": [
       "<matplotlib.figure.Figure at 0x1c262c33c8>"
      ]
     },
     "metadata": {},
     "output_type": "display_data"
    }
   ],
   "source": [
    "import matplotlib.pyplot as plt\n",
    "plt.figure(1, figsize=(15, 10))\n",
    "plt.scatter(y_test, p_test)\n",
    "plt.show()"
   ]
  },
  {
   "cell_type": "code",
   "execution_count": 283,
   "metadata": {},
   "outputs": [
    {
     "data": {
      "image/png": "[encoded data removed]",
      "text/plain": [
       "<matplotlib.figure.Figure at 0x1c4f48e160>"
      ]
     },
     "metadata": {},
     "output_type": "display_data"
    }
   ],
   "source": [
    "plt.figure(1, figsize=(15, 10))\n",
    "plt.scatter(y_test, y_test-p_test)\n",
    "plt.show()"
   ]
  },
  {
   "cell_type": "code",
   "execution_count": 290,
   "metadata": {},
   "outputs": [
    {
     "name": "stdout",
     "output_type": "stream",
     "text": [
      "{'n_estimators': 150, 'max_features': 300, 'bootstrap': False}\n",
      "0.00378983685407\n"
     ]
    }
   ],
   "source": [
    "#use GridSearch find best hyperparameters\n",
    "from sklearn.model_selection import GridSearchCV\n",
    "from sklearn.ensemble import RandomForestRegressor\n",
    "\n",
    "'''\n",
    "param_grid = [\n",
    "{'n_estimators': [100, 125, 150], 'max_features': [100, 200, 300, 500]},\n",
    "{'bootstrap': [False], 'n_estimators': [100, 125, 150], 'max_features': [100,200,300, 500]} ]\n",
    "forest_reg = RandomForestRegressor(random_state=42)\n",
    "grid_search = GridSearchCV(forest_reg, param_grid, cv=5,\n",
    "                           scoring='neg_mean_squared_error')\n",
    "grid_search.fit(X_train_, y_train_)\n",
    "\n",
    "print(grid_search.best_params_)  # {'n_estimators': 300, 'max_features': 3}\n",
    "\n",
    "#print(grid_search.best_estimator_.max_depth)\n",
    "\n",
    "best_model = grid_search.best_estimator_\n",
    "\n",
    "'''\n",
    "\n",
    "best_model = RandomForestRegressor(n_estimators=150, max_features=300, bootstrap=false)\n",
    "predictions = best_model.predict(X_train_)\n",
    "lin_mse = mean_squared_error(y_train_,predictions)\n",
    "lin_rmse = np.sqrt(lin_mse)\n",
    "print(lin_rmse)    "
   ]
  },
  {
   "cell_type": "code",
   "execution_count": 291,
   "metadata": {},
   "outputs": [
    {
     "name": "stdout",
     "output_type": "stream",
     "text": [
      "466.920540848\n"
     ]
    }
   ],
   "source": [
    "p_test = best_model.predict(X_test_pro)\n",
    "print(np.sqrt(mean_squared_error(y_test, p_test)))"
   ]
  },
  {
   "cell_type": "code",
   "execution_count": 292,
   "metadata": {},
   "outputs": [
    {
     "name": "stdout",
     "output_type": "stream",
     "text": [
      "0.999999999983\n"
     ]
    }
   ],
   "source": [
    "print(best_model.score(X_train_, y_train_))"
   ]
  },
  {
   "cell_type": "code",
   "execution_count": 293,
   "metadata": {},
   "outputs": [
    {
     "name": "stdout",
     "output_type": "stream",
     "text": [
      "0.747998230693\n"
     ]
    }
   ],
   "source": [
    "print(best_model.score(X_test_pro, y_test))"
   ]
  },
  {
   "cell_type": "code",
   "execution_count": 302,
   "metadata": {},
   "outputs": [
    {
     "name": "stdout",
     "output_type": "stream",
     "text": [
      "305.550888437\n"
     ]
    }
   ],
   "source": [
    "from sklearn.neural_network import MLPRegressor\n",
    "\n",
    "nn = MLPRegressor(hidden_layer_sizes=(200), \n",
    "                  activation='logistic', solver='lbfgs')\n",
    "\n",
    "n = nn.fit(X_train_, y_train_)\n",
    "predictions = nn.predict(X_train_)\n",
    "lin_mse = mean_squared_error(y_train_,predictions)\n",
    "lin_rmse = np.sqrt(lin_mse)\n",
    "print(lin_rmse)  "
   ]
  },
  {
   "cell_type": "code",
   "execution_count": 303,
   "metadata": {},
   "outputs": [
    {
     "name": "stdout",
     "output_type": "stream",
     "text": [
      "427.018424714\n"
     ]
    }
   ],
   "source": [
    "p_test = nn.predict(X_test_pro)\n",
    "print(np.sqrt(mean_squared_error(y_test, p_test)))"
   ]
  },
  {
   "cell_type": "code",
   "execution_count": 304,
   "metadata": {},
   "outputs": [
    {
     "name": "stdout",
     "output_type": "stream",
     "text": [
      "0.887897376689\n"
     ]
    }
   ],
   "source": [
    "print(nn.score(X_train_, y_train_))"
   ]
  },
  {
   "cell_type": "code",
   "execution_count": 305,
   "metadata": {},
   "outputs": [
    {
     "name": "stdout",
     "output_type": "stream",
     "text": [
      "0.789228998885\n"
     ]
    }
   ],
   "source": [
    "print(nn.score(X_test_pro, y_test))"
   ]
  },
  {
   "cell_type": "code",
   "execution_count": null,
   "metadata": {
    "collapsed": true
   },
   "outputs": [],
   "source": []
  }
 ],
 "metadata": {
  "kernelspec": {
   "display_name": "Python 3",
   "language": "python",
   "name": "python3"
  },
  "language_info": {
   "codemirror_mode": {
    "name": "ipython",
    "version": 3
   },
   "file_extension": ".py",
   "mimetype": "text/x-python",
   "name": "python",
   "nbconvert_exporter": "python",
   "pygments_lexer": "ipython3",
   "version": "3.5.3"
  }
 },
 "nbformat": 4,
 "nbformat_minor": 2
}
